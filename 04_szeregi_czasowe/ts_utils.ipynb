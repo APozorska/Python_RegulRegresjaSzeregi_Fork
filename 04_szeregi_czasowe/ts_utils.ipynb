import numpy as nps
import pandas as pd

from statsmodels.tsa.stattools import adfuller
import matplotlib.pyplot as plt



def check_time_series_stationary(y, rolling_len=12):
    y = pd.Series(y)

    df_test = adfuller(y)

    print("{0:^32s}".format("Dickey-Fuller Test"))
    print("-" * 32 + "\n")

    print("{0:<20s}: {1:>10.4f}".format('Test Statistic', df_test[0]))
    print("{0:<20s}: {1:>10.4f}".format('p-value', df_test[1]))
    print("-" * 32 + "\n")

    rolling_mean = y.rolling(rolling_len).mean()
    rolling_std = y.rolling(rolling_len).std()

    plt.plot(y)
    plt.plot(rolling_mean, label="Rolling mean")
    plt.plot(rolling_std, label="Rolling std")
    plt.legend()
    plt.show()

    print("{0:^32s}".format("Autocorrelation plot"))
    print("-" * 32 + "\n")
    pd.plotting.autocorrelation_plot(y)
    plt.show()