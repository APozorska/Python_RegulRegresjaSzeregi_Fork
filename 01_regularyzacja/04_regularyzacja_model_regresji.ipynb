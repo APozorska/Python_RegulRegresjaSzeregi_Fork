{
  "cells": [
    {
      "cell_type": "markdown",
      "metadata": {
        "id": "pHsnX3oayf25"
      },
      "source": [
        "# Regularyzacja w modelu regresji - zbiór `longley`"
      ]
    },
    {
      "cell_type": "code",
      "execution_count": 1,
      "metadata": {
        "colab": {
          "base_uri": "https://localhost:8080/"
        },
        "id": "DsdCn418yf3A",
        "outputId": "4f9b754b-a003-4d1c-dbbd-b9ecdd8bbe86"
      },
      "outputs": [
        {
          "output_type": "stream",
          "name": "stderr",
          "text": [
            "/usr/local/lib/python3.7/dist-packages/statsmodels/tools/_testing.py:19: FutureWarning: pandas.util.testing is deprecated. Use the functions in the public API at pandas.testing instead.\n",
            "  import pandas.util.testing as tm\n"
          ]
        }
      ],
      "source": [
        "import numpy as np\n",
        "import pandas as pd\n",
        "\n",
        "import statsmodels.api as sm\n",
        "import statsmodels.formula.api as smf\n",
        "from patsy import dmatrices\n",
        "\n",
        "import matplotlib.pyplot as plt\n",
        "%matplotlib inline\n",
        "from matplotlib.pylab import rcParams\n",
        "rcParams['figure.figsize'] = 12, 10\n",
        "\n",
        "from sklearn.linear_model import LinearRegression\n",
        "from sklearn.linear_model import Ridge\n",
        "from sklearn.linear_model import Lasso\n",
        "from sklearn.preprocessing import StandardScaler\n",
        "from sklearn.pipeline import make_pipeline\n",
        "from sklearn.preprocessing import PolynomialFeatures\n",
        "\n",
        "from sklearn.model_selection import GridSearchCV\n",
        "from sklearn.model_selection import cross_val_score\n",
        "import sklearn.metrics as metrics\n",
        "\n",
        "from scipy import stats\n",
        "\n",
        "import warnings\n",
        "warnings.filterwarnings('ignore')"
      ]
    },
    {
      "cell_type": "markdown",
      "metadata": {
        "id": "qXSugtcqyf3C"
      },
      "source": [
        "# Zadanie - `longley`"
      ]
    },
    {
      "cell_type": "markdown",
      "metadata": {
        "id": "4ZbarMSiyf3D"
      },
      "source": [
        "Zbiór danych `longley` zawiera różne zmienne makroekonomiczne w USA, o których wiadomo, że są wysoce współliniowe.\n",
        "\n",
        "`GNPDEFL` GNP implicit price deflator (1954=100)\n",
        "\n",
        "`GNP` Gross National Produc\n",
        "\n",
        "`UNEMP` number of unemployed.\n",
        "\n",
        "`ARMED` number of people in the armed forces.\n",
        "\n",
        "`POP` ‘noninstitutionalized’ population ≥ 14 years of age.\n",
        "\n",
        "`YEAR` the year (time).\n",
        "\n",
        "`TOTEMP` number of people employed."
      ]
    },
    {
      "cell_type": "markdown",
      "metadata": {
        "id": "ZfV1wZaMyf3E"
      },
      "source": [
        "1. Dopasuj model regresji liniowej, w którym zmienną zależną jest zmienna `TOTEMP` a pozostałe cechy zmiennymi niezależnymi. Wyznacz ocenę dopasowania modelu korzystając z kroswalidacji 10-krotnej dla następujących miar:\n",
        "   - błędu średniokwadratowego, \n",
        "   - mediany błędu bezwzględnego, \n",
        "   \n",
        "    \n",
        "2. Dopasuj model regresji grzbietowej:\n",
        "   - znajdź optymalną wartość parametru $\\alpha$ (GridSearchCV)\n",
        "   - sporządź wykres wartości współczynników regresji względem parametru $\\alpha$.\n",
        "\n",
        "\n",
        "3. Dopasuj model regresji Lasso:\n",
        "   - znajdź optymalną wartość parametru $\\alpha$ (GridSearchCV)\n",
        "   - sporządź wykres wartości współczynników regresji względem parametru $\\alpha$.\n",
        "   \n",
        "   \n",
        "4. dopasuj model regresji wielomianowej\n",
        "   - znajdź optymalny stopień wielomianu\n",
        "   - zastosuj regularyzację - znajdź optymalny stopień wielomianu i parametr $\\alpha$.\n",
        "   \n",
        "Rozwiązując powyższe zadanie staraj się automatyzować swoją analizę, tj. napisz funkcje:\n",
        "- `cross_val_scores`, która zwraca słownik/ramkę danych miar jakości dla zbudowanego modelu;\n",
        "- `grid_search_alpha`, która znajduje optymalną wartość $\\alpha$ dla modelu regresji z regularyzacją Ridge lub Lasso;\n",
        "- `grid_search_power_and_alpha`, która znajduje optymalny stopień wielomianu oraz parametr $alpha$ dla regresji wielomianowej z regularyzacją Ridge lub Lasso.\n",
        "\n",
        "Przygotuj tak analizę aby na koniec przedstawić wszystkie wyniki w jednej tabeli."
      ]
    },
    {
      "cell_type": "code",
      "execution_count": 2,
      "metadata": {
        "colab": {
          "base_uri": "https://localhost:8080/",
          "height": 206
        },
        "id": "jxEv7Ctgyf3F",
        "outputId": "1ac93858-29ec-43f9-a68b-ce31cfd7bf65"
      },
      "outputs": [
        {
          "output_type": "execute_result",
          "data": {
            "text/plain": [
              "    TOTEMP  GNPDEFL       GNP   UNEMP   ARMED       POP    YEAR\n",
              "0  60323.0     83.0  234289.0  2356.0  1590.0  107608.0  1947.0\n",
              "1  61122.0     88.5  259426.0  2325.0  1456.0  108632.0  1948.0\n",
              "2  60171.0     88.2  258054.0  3682.0  1616.0  109773.0  1949.0\n",
              "3  61187.0     89.5  284599.0  3351.0  1650.0  110929.0  1950.0\n",
              "4  63221.0     96.2  328975.0  2099.0  3099.0  112075.0  1951.0"
            ],
            "text/html": [
              "\n",
              "  <div id=\"df-c44a6e54-723c-4625-9faf-f11fac9397bf\">\n",
              "    <div class=\"colab-df-container\">\n",
              "      <div>\n",
              "<style scoped>\n",
              "    .dataframe tbody tr th:only-of-type {\n",
              "        vertical-align: middle;\n",
              "    }\n",
              "\n",
              "    .dataframe tbody tr th {\n",
              "        vertical-align: top;\n",
              "    }\n",
              "\n",
              "    .dataframe thead th {\n",
              "        text-align: right;\n",
              "    }\n",
              "</style>\n",
              "<table border=\"1\" class=\"dataframe\">\n",
              "  <thead>\n",
              "    <tr style=\"text-align: right;\">\n",
              "      <th></th>\n",
              "      <th>TOTEMP</th>\n",
              "      <th>GNPDEFL</th>\n",
              "      <th>GNP</th>\n",
              "      <th>UNEMP</th>\n",
              "      <th>ARMED</th>\n",
              "      <th>POP</th>\n",
              "      <th>YEAR</th>\n",
              "    </tr>\n",
              "  </thead>\n",
              "  <tbody>\n",
              "    <tr>\n",
              "      <th>0</th>\n",
              "      <td>60323.0</td>\n",
              "      <td>83.0</td>\n",
              "      <td>234289.0</td>\n",
              "      <td>2356.0</td>\n",
              "      <td>1590.0</td>\n",
              "      <td>107608.0</td>\n",
              "      <td>1947.0</td>\n",
              "    </tr>\n",
              "    <tr>\n",
              "      <th>1</th>\n",
              "      <td>61122.0</td>\n",
              "      <td>88.5</td>\n",
              "      <td>259426.0</td>\n",
              "      <td>2325.0</td>\n",
              "      <td>1456.0</td>\n",
              "      <td>108632.0</td>\n",
              "      <td>1948.0</td>\n",
              "    </tr>\n",
              "    <tr>\n",
              "      <th>2</th>\n",
              "      <td>60171.0</td>\n",
              "      <td>88.2</td>\n",
              "      <td>258054.0</td>\n",
              "      <td>3682.0</td>\n",
              "      <td>1616.0</td>\n",
              "      <td>109773.0</td>\n",
              "      <td>1949.0</td>\n",
              "    </tr>\n",
              "    <tr>\n",
              "      <th>3</th>\n",
              "      <td>61187.0</td>\n",
              "      <td>89.5</td>\n",
              "      <td>284599.0</td>\n",
              "      <td>3351.0</td>\n",
              "      <td>1650.0</td>\n",
              "      <td>110929.0</td>\n",
              "      <td>1950.0</td>\n",
              "    </tr>\n",
              "    <tr>\n",
              "      <th>4</th>\n",
              "      <td>63221.0</td>\n",
              "      <td>96.2</td>\n",
              "      <td>328975.0</td>\n",
              "      <td>2099.0</td>\n",
              "      <td>3099.0</td>\n",
              "      <td>112075.0</td>\n",
              "      <td>1951.0</td>\n",
              "    </tr>\n",
              "  </tbody>\n",
              "</table>\n",
              "</div>\n",
              "      <button class=\"colab-df-convert\" onclick=\"convertToInteractive('df-c44a6e54-723c-4625-9faf-f11fac9397bf')\"\n",
              "              title=\"Convert this dataframe to an interactive table.\"\n",
              "              style=\"display:none;\">\n",
              "        \n",
              "  <svg xmlns=\"http://www.w3.org/2000/svg\" height=\"24px\"viewBox=\"0 0 24 24\"\n",
              "       width=\"24px\">\n",
              "    <path d=\"M0 0h24v24H0V0z\" fill=\"none\"/>\n",
              "    <path d=\"M18.56 5.44l.94 2.06.94-2.06 2.06-.94-2.06-.94-.94-2.06-.94 2.06-2.06.94zm-11 1L8.5 8.5l.94-2.06 2.06-.94-2.06-.94L8.5 2.5l-.94 2.06-2.06.94zm10 10l.94 2.06.94-2.06 2.06-.94-2.06-.94-.94-2.06-.94 2.06-2.06.94z\"/><path d=\"M17.41 7.96l-1.37-1.37c-.4-.4-.92-.59-1.43-.59-.52 0-1.04.2-1.43.59L10.3 9.45l-7.72 7.72c-.78.78-.78 2.05 0 2.83L4 21.41c.39.39.9.59 1.41.59.51 0 1.02-.2 1.41-.59l7.78-7.78 2.81-2.81c.8-.78.8-2.07 0-2.86zM5.41 20L4 18.59l7.72-7.72 1.47 1.35L5.41 20z\"/>\n",
              "  </svg>\n",
              "      </button>\n",
              "      \n",
              "  <style>\n",
              "    .colab-df-container {\n",
              "      display:flex;\n",
              "      flex-wrap:wrap;\n",
              "      gap: 12px;\n",
              "    }\n",
              "\n",
              "    .colab-df-convert {\n",
              "      background-color: #E8F0FE;\n",
              "      border: none;\n",
              "      border-radius: 50%;\n",
              "      cursor: pointer;\n",
              "      display: none;\n",
              "      fill: #1967D2;\n",
              "      height: 32px;\n",
              "      padding: 0 0 0 0;\n",
              "      width: 32px;\n",
              "    }\n",
              "\n",
              "    .colab-df-convert:hover {\n",
              "      background-color: #E2EBFA;\n",
              "      box-shadow: 0px 1px 2px rgba(60, 64, 67, 0.3), 0px 1px 3px 1px rgba(60, 64, 67, 0.15);\n",
              "      fill: #174EA6;\n",
              "    }\n",
              "\n",
              "    [theme=dark] .colab-df-convert {\n",
              "      background-color: #3B4455;\n",
              "      fill: #D2E3FC;\n",
              "    }\n",
              "\n",
              "    [theme=dark] .colab-df-convert:hover {\n",
              "      background-color: #434B5C;\n",
              "      box-shadow: 0px 1px 3px 1px rgba(0, 0, 0, 0.15);\n",
              "      filter: drop-shadow(0px 1px 2px rgba(0, 0, 0, 0.3));\n",
              "      fill: #FFFFFF;\n",
              "    }\n",
              "  </style>\n",
              "\n",
              "      <script>\n",
              "        const buttonEl =\n",
              "          document.querySelector('#df-c44a6e54-723c-4625-9faf-f11fac9397bf button.colab-df-convert');\n",
              "        buttonEl.style.display =\n",
              "          google.colab.kernel.accessAllowed ? 'block' : 'none';\n",
              "\n",
              "        async function convertToInteractive(key) {\n",
              "          const element = document.querySelector('#df-c44a6e54-723c-4625-9faf-f11fac9397bf');\n",
              "          const dataTable =\n",
              "            await google.colab.kernel.invokeFunction('convertToInteractive',\n",
              "                                                     [key], {});\n",
              "          if (!dataTable) return;\n",
              "\n",
              "          const docLinkHtml = 'Like what you see? Visit the ' +\n",
              "            '<a target=\"_blank\" href=https://colab.research.google.com/notebooks/data_table.ipynb>data table notebook</a>'\n",
              "            + ' to learn more about interactive tables.';\n",
              "          element.innerHTML = '';\n",
              "          dataTable['output_type'] = 'display_data';\n",
              "          await google.colab.output.renderOutput(dataTable, element);\n",
              "          const docLink = document.createElement('div');\n",
              "          docLink.innerHTML = docLinkHtml;\n",
              "          element.appendChild(docLink);\n",
              "        }\n",
              "      </script>\n",
              "    </div>\n",
              "  </div>\n",
              "  "
            ]
          },
          "metadata": {},
          "execution_count": 2
        }
      ],
      "source": [
        "longley = sm.datasets.longley.load_pandas()\n",
        "longley.data.head()"
      ]
    },
    {
      "cell_type": "code",
      "execution_count": 3,
      "metadata": {
        "id": "eC-U4dDTyf3H"
      },
      "outputs": [],
      "source": [
        "#zmienna niezależne i zależna \n",
        "X, y = longley.data.iloc[:, longley.data.columns != 'TOTEMP'], longley.data['TOTEMP']"
      ]
    },
    {
      "cell_type": "code",
      "execution_count": 4,
      "metadata": {
        "id": "1ORzng-Byf3I"
      },
      "outputs": [],
      "source": [
        "#funkcja licząca miary dla modelu\n",
        "def cross_val_scores(model,X,y,cv = 10):\n",
        "  results = {}\n",
        "  results['mse'] = -cross_val_score(model,X,y,scoring = 'neg_mean_squared_error',cv = cv).mean()\n",
        "  results['mae'] = -cross_val_score(model,X,y,scoring = 'neg_median_absolute_error',cv = cv).mean()\n",
        "  return(results)"
      ]
    },
    {
      "cell_type": "code",
      "execution_count": 5,
      "metadata": {
        "id": "D6S2nXMhyf3I"
      },
      "outputs": [],
      "source": [
        "#funkcja mająca znaleźć najlepszą alphę w regresji ridge czy lasso za pomocą kroswalidacji (zwraca najlepszą alphę)\n",
        "def grid_search_alpha(model,X,y,params,scoring,cv = 10):\n",
        "  grid = GridSearchCV(\n",
        "      make_pipeline(\n",
        "          StandardScaler(),\n",
        "          model\n",
        "      ),\n",
        "      params,\n",
        "      scoring = scoring,\n",
        "      cv = cv)\n",
        "  grid.fit(X,y)\n",
        "  return grid.best_params_"
      ]
    },
    {
      "cell_type": "code",
      "execution_count": 6,
      "metadata": {
        "id": "2udGynMzyf3J"
      },
      "outputs": [],
      "source": [
        "models = {}\n",
        "#miary dla liniowego\n",
        "models['linear'] = cross_val_scores(LinearRegression(),X,y)\n",
        "#optymalna alpha dla ridge\n",
        "best_alpha_ridge = grid_search_alpha(Ridge(),X,y,{'ridge__alpha':np.linspace(0.01,10,100)},\n",
        "                                     scoring = 'neg_mean_squared_error',cv = 10)\n",
        "#ridge z najlepszym parametrem\n",
        "ridge = make_pipeline(\n",
        "          StandardScaler(),\n",
        "          Ridge(best_alpha_ridge['ridge__alpha']))\n",
        "#miary dla ridge\n",
        "models['ridge_%.3g' % best_alpha_ridge['ridge__alpha']] = cross_val_scores(ridge,X,y)\n",
        "#optymalna alpha dla lasso\n",
        "best_alpha_lasso = grid_search_alpha(Lasso(),X,y,{'lasso__alpha':np.linspace(0.01,10,100)},\n",
        "                                     scoring = 'neg_mean_squared_error',cv = 10)\n",
        "#lasso z najlepszym parametrem\n",
        "lasso = make_pipeline(\n",
        "          StandardScaler(),\n",
        "          Lasso(best_alpha_lasso['lasso__alpha']))\n",
        "#miary dla lasso\n",
        "models['lasso_%.3g' % best_alpha_lasso['lasso__alpha']] = cross_val_scores(lasso,X,y)"
      ]
    },
    {
      "cell_type": "code",
      "execution_count": 7,
      "metadata": {
        "colab": {
          "base_uri": "https://localhost:8080/",
          "height": 112
        },
        "id": "q_g_ilAjyf3J",
        "outputId": "00086127-67af-48c6-fed5-94523d747f9f"
      },
      "outputs": [
        {
          "output_type": "execute_result",
          "data": {
            "text/plain": [
              "            linear     ridge_0.01     lasso_7.78\n",
              "mse  233948.331759  226644.930114  169051.042878\n",
              "mae     394.109659     368.268979     297.792808"
            ],
            "text/html": [
              "\n",
              "  <div id=\"df-e6e17811-0e6d-4a5d-b951-b2b28d17d7a8\">\n",
              "    <div class=\"colab-df-container\">\n",
              "      <div>\n",
              "<style scoped>\n",
              "    .dataframe tbody tr th:only-of-type {\n",
              "        vertical-align: middle;\n",
              "    }\n",
              "\n",
              "    .dataframe tbody tr th {\n",
              "        vertical-align: top;\n",
              "    }\n",
              "\n",
              "    .dataframe thead th {\n",
              "        text-align: right;\n",
              "    }\n",
              "</style>\n",
              "<table border=\"1\" class=\"dataframe\">\n",
              "  <thead>\n",
              "    <tr style=\"text-align: right;\">\n",
              "      <th></th>\n",
              "      <th>linear</th>\n",
              "      <th>ridge_0.01</th>\n",
              "      <th>lasso_7.78</th>\n",
              "    </tr>\n",
              "  </thead>\n",
              "  <tbody>\n",
              "    <tr>\n",
              "      <th>mse</th>\n",
              "      <td>233948.331759</td>\n",
              "      <td>226644.930114</td>\n",
              "      <td>169051.042878</td>\n",
              "    </tr>\n",
              "    <tr>\n",
              "      <th>mae</th>\n",
              "      <td>394.109659</td>\n",
              "      <td>368.268979</td>\n",
              "      <td>297.792808</td>\n",
              "    </tr>\n",
              "  </tbody>\n",
              "</table>\n",
              "</div>\n",
              "      <button class=\"colab-df-convert\" onclick=\"convertToInteractive('df-e6e17811-0e6d-4a5d-b951-b2b28d17d7a8')\"\n",
              "              title=\"Convert this dataframe to an interactive table.\"\n",
              "              style=\"display:none;\">\n",
              "        \n",
              "  <svg xmlns=\"http://www.w3.org/2000/svg\" height=\"24px\"viewBox=\"0 0 24 24\"\n",
              "       width=\"24px\">\n",
              "    <path d=\"M0 0h24v24H0V0z\" fill=\"none\"/>\n",
              "    <path d=\"M18.56 5.44l.94 2.06.94-2.06 2.06-.94-2.06-.94-.94-2.06-.94 2.06-2.06.94zm-11 1L8.5 8.5l.94-2.06 2.06-.94-2.06-.94L8.5 2.5l-.94 2.06-2.06.94zm10 10l.94 2.06.94-2.06 2.06-.94-2.06-.94-.94-2.06-.94 2.06-2.06.94z\"/><path d=\"M17.41 7.96l-1.37-1.37c-.4-.4-.92-.59-1.43-.59-.52 0-1.04.2-1.43.59L10.3 9.45l-7.72 7.72c-.78.78-.78 2.05 0 2.83L4 21.41c.39.39.9.59 1.41.59.51 0 1.02-.2 1.41-.59l7.78-7.78 2.81-2.81c.8-.78.8-2.07 0-2.86zM5.41 20L4 18.59l7.72-7.72 1.47 1.35L5.41 20z\"/>\n",
              "  </svg>\n",
              "      </button>\n",
              "      \n",
              "  <style>\n",
              "    .colab-df-container {\n",
              "      display:flex;\n",
              "      flex-wrap:wrap;\n",
              "      gap: 12px;\n",
              "    }\n",
              "\n",
              "    .colab-df-convert {\n",
              "      background-color: #E8F0FE;\n",
              "      border: none;\n",
              "      border-radius: 50%;\n",
              "      cursor: pointer;\n",
              "      display: none;\n",
              "      fill: #1967D2;\n",
              "      height: 32px;\n",
              "      padding: 0 0 0 0;\n",
              "      width: 32px;\n",
              "    }\n",
              "\n",
              "    .colab-df-convert:hover {\n",
              "      background-color: #E2EBFA;\n",
              "      box-shadow: 0px 1px 2px rgba(60, 64, 67, 0.3), 0px 1px 3px 1px rgba(60, 64, 67, 0.15);\n",
              "      fill: #174EA6;\n",
              "    }\n",
              "\n",
              "    [theme=dark] .colab-df-convert {\n",
              "      background-color: #3B4455;\n",
              "      fill: #D2E3FC;\n",
              "    }\n",
              "\n",
              "    [theme=dark] .colab-df-convert:hover {\n",
              "      background-color: #434B5C;\n",
              "      box-shadow: 0px 1px 3px 1px rgba(0, 0, 0, 0.15);\n",
              "      filter: drop-shadow(0px 1px 2px rgba(0, 0, 0, 0.3));\n",
              "      fill: #FFFFFF;\n",
              "    }\n",
              "  </style>\n",
              "\n",
              "      <script>\n",
              "        const buttonEl =\n",
              "          document.querySelector('#df-e6e17811-0e6d-4a5d-b951-b2b28d17d7a8 button.colab-df-convert');\n",
              "        buttonEl.style.display =\n",
              "          google.colab.kernel.accessAllowed ? 'block' : 'none';\n",
              "\n",
              "        async function convertToInteractive(key) {\n",
              "          const element = document.querySelector('#df-e6e17811-0e6d-4a5d-b951-b2b28d17d7a8');\n",
              "          const dataTable =\n",
              "            await google.colab.kernel.invokeFunction('convertToInteractive',\n",
              "                                                     [key], {});\n",
              "          if (!dataTable) return;\n",
              "\n",
              "          const docLinkHtml = 'Like what you see? Visit the ' +\n",
              "            '<a target=\"_blank\" href=https://colab.research.google.com/notebooks/data_table.ipynb>data table notebook</a>'\n",
              "            + ' to learn more about interactive tables.';\n",
              "          element.innerHTML = '';\n",
              "          dataTable['output_type'] = 'display_data';\n",
              "          await google.colab.output.renderOutput(dataTable, element);\n",
              "          const docLink = document.createElement('div');\n",
              "          docLink.innerHTML = docLinkHtml;\n",
              "          element.appendChild(docLink);\n",
              "        }\n",
              "      </script>\n",
              "    </div>\n",
              "  </div>\n",
              "  "
            ]
          },
          "metadata": {},
          "execution_count": 7
        }
      ],
      "source": [
        "pd.DataFrame(models)"
      ]
    },
    {
      "cell_type": "code",
      "execution_count": 8,
      "metadata": {
        "id": "44SdvFFxyf3K"
      },
      "outputs": [],
      "source": [
        "#funkcja do stworzenia wykresu zmiany wartości współczynnika beta w zależności od zmiany alpha\n",
        "def plot_coef_vs_alpha(model_name, min_alpha, max_alpha, poly_degree=1):\n",
        "    alpha_vec =  np.linspace(min_alpha, max_alpha, 100)\n",
        "    \n",
        "    if (model_name == 'lasso'):\n",
        "        model = Lasso(max_iter=1e5)\n",
        "    elif(model_name == 'ridge'):\n",
        "        model = Ridge()\n",
        "\n",
        "    coefs = []\n",
        "    for a in alpha_vec:\n",
        "        model.alpha = a\n",
        "        \n",
        "        model_reg = make_pipeline(\n",
        "            PolynomialFeatures(poly_degree),\n",
        "            StandardScaler(),\n",
        "            model\n",
        "        )\n",
        "        \n",
        "        model_reg.fit(X, y)\n",
        "        coefs.append(model_reg.named_steps[model_name].coef_[1:])\n",
        "\n",
        "    plt.plot(alpha_vec, coefs)\n",
        "    plt.plot([np.min(alpha_vec), np.max(alpha_vec)], [0, 0], '-.', color = 'black')\n",
        "    plt.xlabel('alpha')\n",
        "    plt.ylabel('coefficients')\n",
        "    plt.legend(X.columns)\n",
        "    plt.show()"
      ]
    },
    {
      "cell_type": "code",
      "source": [
        "plot_coef_vs_alpha('ridge',0,10,1) #schodzą do 0"
      ],
      "metadata": {
        "colab": {
          "base_uri": "https://localhost:8080/",
          "height": 279
        },
        "id": "KiGU2-lC49GV",
        "outputId": "bcefe839-2545-45eb-fb37-0f49e28820ed"
      },
      "execution_count": 9,
      "outputs": [
        {
          "output_type": "display_data",
          "data": {
            "text/plain": [
              "<Figure size 432x288 with 1 Axes>"
            ],
            "image/png": "[encoded data removed]"
          },
          "metadata": {
            "needs_background": "light"
          }
        }
      ]
    },
    {
      "cell_type": "code",
      "source": [
        "plot_coef_vs_alpha('lasso',0,10,1) #osiągają 0 jeden po drugim wraz ze wzrostem alphy"
      ],
      "metadata": {
        "colab": {
          "base_uri": "https://localhost:8080/",
          "height": 279
        },
        "id": "X6E-hlA95Jxp",
        "outputId": "f1e7f375-f2ee-4030-bcf3-5978779ad76f"
      },
      "execution_count": 10,
      "outputs": [
        {
          "output_type": "display_data",
          "data": {
            "text/plain": [
              "<Figure size 432x288 with 1 Axes>"
            ],
            "image/png": "[encoded data removed]"
          },
          "metadata": {
            "needs_background": "light"
          }
        }
      ]
    },
    {
      "cell_type": "code",
      "source": [
        "#funkcja do znajdywania najlepszego zestawu parametrów degree i alpha\n",
        "def grid_search_power_and_alpha(model,X,y,params,scoring,cv = 10):\n",
        "  grid = GridSearchCV(\n",
        "      make_pipeline(\n",
        "          PolynomialFeatures(),\n",
        "          StandardScaler(),\n",
        "          model\n",
        "      ),\n",
        "      params,\n",
        "      scoring = scoring,\n",
        "      cv = cv)\n",
        "  grid.fit(X,y)\n",
        "  return grid.best_params_"
      ],
      "metadata": {
        "id": "-SAucsgq5riF"
      },
      "execution_count": 11,
      "outputs": []
    },
    {
      "cell_type": "code",
      "source": [
        "models2 = {}\n",
        "#znajdujemy najlepsze parametrey modelu dla ridge\n",
        "best_params_ridge = grid_search_power_and_alpha(\n",
        "    model = Ridge(),\n",
        "    X = X,\n",
        "    y=y,\n",
        "    params = {\n",
        "        'ridge__alpha':np.linspace(0.01,1,10),\n",
        "        'polynomialfeatures__degree':np.arange(1,11)\n",
        "    },\n",
        "    scoring = 'neg_mean_squared_error'\n",
        ")"
      ],
      "metadata": {
        "id": "zHpnkIPd5_vt"
      },
      "execution_count": 12,
      "outputs": []
    },
    {
      "cell_type": "code",
      "source": [
        "best_params_ridge #najlepsze parametry"
      ],
      "metadata": {
        "colab": {
          "base_uri": "https://localhost:8080/"
        },
        "id": "aOb1bZ0d60A2",
        "outputId": "ca9e9cf0-cda1-4bee-9cbb-aa78347d3fc8"
      },
      "execution_count": null,
      "outputs": [
        {
          "output_type": "execute_result",
          "data": {
            "text/plain": [
              "{'polynomialfeatures__degree': 1, 'ridge__alpha': 0.01}"
            ]
          },
          "metadata": {},
          "execution_count": 21
        }
      ]
    },
    {
      "cell_type": "code",
      "source": [
        "#ridge polynomial z najlepszym zestawem parametrów\n",
        "ridge = make_pipeline(\n",
        "          PolynomialFeatures(best_params_ridge['polynomialfeatures__degree']),\n",
        "          StandardScaler(),\n",
        "          Ridge(best_params_ridge['ridge__alpha'])\n",
        ")\n",
        "#miary dla ridge\n",
        "models2['ridge_%.3g_%d' % (best_params_ridge['ridge__alpha'],\n",
        "                       best_params_ridge['polynomialfeatures__degree'])] = cross_val_scores(ridge,X,y)\n"
      ],
      "metadata": {
        "id": "2Vv66C5M7CJN"
      },
      "execution_count": 13,
      "outputs": []
    },
    {
      "cell_type": "code",
      "source": [
        "#znajdujemy najlepsze parametrey modelu dla lasso\n",
        "best_params_lasso = grid_search_power_and_alpha(\n",
        "    model = Lasso(),\n",
        "    X = X,\n",
        "    y=y,\n",
        "    params = {\n",
        "        'lasso__alpha':np.linspace(7.01,8,10), #parametr szukam między 7 a 8, bo wcześniej alpha z tego przedziału dawała najlepsze wyniki\n",
        "        'polynomialfeatures__degree':np.arange(1,11)\n",
        "    },\n",
        "    scoring = 'neg_mean_squared_error'\n",
        ")"
      ],
      "metadata": {
        "id": "qrOesuPj8X_t"
      },
      "execution_count": 17,
      "outputs": []
    },
    {
      "cell_type": "code",
      "source": [
        "#lasso polynomial z najlepszym zestawem parametrów\n",
        "lasso = make_pipeline(\n",
        "          PolynomialFeatures(best_params_lasso['polynomialfeatures__degree']),\n",
        "          StandardScaler(),\n",
        "          Lasso(best_params_lasso['lasso__alpha'])\n",
        ")\n",
        "#miary dla lasso\n",
        "models2['lasso_%.3g_%d' % (best_params_lasso['lasso__alpha'],\n",
        "                       best_params_lasso['polynomialfeatures__degree'])] = cross_val_scores(lasso,X,y)"
      ],
      "metadata": {
        "id": "G1AEVwlX8Uh5"
      },
      "execution_count": 18,
      "outputs": []
    },
    {
      "cell_type": "code",
      "source": [
        "#wyniki końcowe\n",
        "results = pd.concat([pd.DataFrame(models),pd.DataFrame(models2)],axis =1,sort = False)\n",
        "results"
      ],
      "metadata": {
        "colab": {
          "base_uri": "https://localhost:8080/",
          "height": 112
        },
        "id": "O7lM0BAe9ELk",
        "outputId": "8dcff7aa-6f69-4ebf-ec6d-dfe4022b495d"
      },
      "execution_count": 19,
      "outputs": [
        {
          "output_type": "execute_result",
          "data": {
            "text/plain": [
              "            linear     ridge_0.01     lasso_7.78   ridge_0.01_1  \\\n",
              "mse  233948.331759  226644.930114  169051.042878  226644.930114   \n",
              "mae     394.109659     368.268979     297.792808     368.268979   \n",
              "\n",
              "      lasso_0.56_1   lasso_7.78_1  \n",
              "mse  213884.633677  169051.042878  \n",
              "mae     358.733590     297.792808  "
            ],
            "text/html": [
              "\n",
              "  <div id=\"df-4527247f-ab91-4eab-b542-ef5f006a97b5\">\n",
              "    <div class=\"colab-df-container\">\n",
              "      <div>\n",
              "<style scoped>\n",
              "    .dataframe tbody tr th:only-of-type {\n",
              "        vertical-align: middle;\n",
              "    }\n",
              "\n",
              "    .dataframe tbody tr th {\n",
              "        vertical-align: top;\n",
              "    }\n",
              "\n",
              "    .dataframe thead th {\n",
              "        text-align: right;\n",
              "    }\n",
              "</style>\n",
              "<table border=\"1\" class=\"dataframe\">\n",
              "  <thead>\n",
              "    <tr style=\"text-align: right;\">\n",
              "      <th></th>\n",
              "      <th>linear</th>\n",
              "      <th>ridge_0.01</th>\n",
              "      <th>lasso_7.78</th>\n",
              "      <th>ridge_0.01_1</th>\n",
              "      <th>lasso_0.56_1</th>\n",
              "      <th>lasso_7.78_1</th>\n",
              "    </tr>\n",
              "  </thead>\n",
              "  <tbody>\n",
              "    <tr>\n",
              "      <th>mse</th>\n",
              "      <td>233948.331759</td>\n",
              "      <td>226644.930114</td>\n",
              "      <td>169051.042878</td>\n",
              "      <td>226644.930114</td>\n",
              "      <td>213884.633677</td>\n",
              "      <td>169051.042878</td>\n",
              "    </tr>\n",
              "    <tr>\n",
              "      <th>mae</th>\n",
              "      <td>394.109659</td>\n",
              "      <td>368.268979</td>\n",
              "      <td>297.792808</td>\n",
              "      <td>368.268979</td>\n",
              "      <td>358.733590</td>\n",
              "      <td>297.792808</td>\n",
              "    </tr>\n",
              "  </tbody>\n",
              "</table>\n",
              "</div>\n",
              "      <button class=\"colab-df-convert\" onclick=\"convertToInteractive('df-4527247f-ab91-4eab-b542-ef5f006a97b5')\"\n",
              "              title=\"Convert this dataframe to an interactive table.\"\n",
              "              style=\"display:none;\">\n",
              "        \n",
              "  <svg xmlns=\"http://www.w3.org/2000/svg\" height=\"24px\"viewBox=\"0 0 24 24\"\n",
              "       width=\"24px\">\n",
              "    <path d=\"M0 0h24v24H0V0z\" fill=\"none\"/>\n",
              "    <path d=\"M18.56 5.44l.94 2.06.94-2.06 2.06-.94-2.06-.94-.94-2.06-.94 2.06-2.06.94zm-11 1L8.5 8.5l.94-2.06 2.06-.94-2.06-.94L8.5 2.5l-.94 2.06-2.06.94zm10 10l.94 2.06.94-2.06 2.06-.94-2.06-.94-.94-2.06-.94 2.06-2.06.94z\"/><path d=\"M17.41 7.96l-1.37-1.37c-.4-.4-.92-.59-1.43-.59-.52 0-1.04.2-1.43.59L10.3 9.45l-7.72 7.72c-.78.78-.78 2.05 0 2.83L4 21.41c.39.39.9.59 1.41.59.51 0 1.02-.2 1.41-.59l7.78-7.78 2.81-2.81c.8-.78.8-2.07 0-2.86zM5.41 20L4 18.59l7.72-7.72 1.47 1.35L5.41 20z\"/>\n",
              "  </svg>\n",
              "      </button>\n",
              "      \n",
              "  <style>\n",
              "    .colab-df-container {\n",
              "      display:flex;\n",
              "      flex-wrap:wrap;\n",
              "      gap: 12px;\n",
              "    }\n",
              "\n",
              "    .colab-df-convert {\n",
              "      background-color: #E8F0FE;\n",
              "      border: none;\n",
              "      border-radius: 50%;\n",
              "      cursor: pointer;\n",
              "      display: none;\n",
              "      fill: #1967D2;\n",
              "      height: 32px;\n",
              "      padding: 0 0 0 0;\n",
              "      width: 32px;\n",
              "    }\n",
              "\n",
              "    .colab-df-convert:hover {\n",
              "      background-color: #E2EBFA;\n",
              "      box-shadow: 0px 1px 2px rgba(60, 64, 67, 0.3), 0px 1px 3px 1px rgba(60, 64, 67, 0.15);\n",
              "      fill: #174EA6;\n",
              "    }\n",
              "\n",
              "    [theme=dark] .colab-df-convert {\n",
              "      background-color: #3B4455;\n",
              "      fill: #D2E3FC;\n",
              "    }\n",
              "\n",
              "    [theme=dark] .colab-df-convert:hover {\n",
              "      background-color: #434B5C;\n",
              "      box-shadow: 0px 1px 3px 1px rgba(0, 0, 0, 0.15);\n",
              "      filter: drop-shadow(0px 1px 2px rgba(0, 0, 0, 0.3));\n",
              "      fill: #FFFFFF;\n",
              "    }\n",
              "  </style>\n",
              "\n",
              "      <script>\n",
              "        const buttonEl =\n",
              "          document.querySelector('#df-4527247f-ab91-4eab-b542-ef5f006a97b5 button.colab-df-convert');\n",
              "        buttonEl.style.display =\n",
              "          google.colab.kernel.accessAllowed ? 'block' : 'none';\n",
              "\n",
              "        async function convertToInteractive(key) {\n",
              "          const element = document.querySelector('#df-4527247f-ab91-4eab-b542-ef5f006a97b5');\n",
              "          const dataTable =\n",
              "            await google.colab.kernel.invokeFunction('convertToInteractive',\n",
              "                                                     [key], {});\n",
              "          if (!dataTable) return;\n",
              "\n",
              "          const docLinkHtml = 'Like what you see? Visit the ' +\n",
              "            '<a target=\"_blank\" href=https://colab.research.google.com/notebooks/data_table.ipynb>data table notebook</a>'\n",
              "            + ' to learn more about interactive tables.';\n",
              "          element.innerHTML = '';\n",
              "          dataTable['output_type'] = 'display_data';\n",
              "          await google.colab.output.renderOutput(dataTable, element);\n",
              "          const docLink = document.createElement('div');\n",
              "          docLink.innerHTML = docLinkHtml;\n",
              "          element.appendChild(docLink);\n",
              "        }\n",
              "      </script>\n",
              "    </div>\n",
              "  </div>\n",
              "  "
            ]
          },
          "metadata": {},
          "execution_count": 19
        }
      ]
    }
  ],
  "metadata": {
    "kernelspec": {
      "display_name": "Python 3",
      "language": "python",
      "name": "python3"
    },
    "language_info": {
      "codemirror_mode": {
        "name": "ipython",
        "version": 3
      },
      "file_extension": ".py",
      "mimetype": "text/x-python",
      "name": "python",
      "nbconvert_exporter": "python",
      "pygments_lexer": "ipython3",
      "version": "3.7.4"
    },
    "colab": {
      "name": "04_regularyzacja_model_regresji.ipynb",
      "provenance": [],
      "collapsed_sections": []
    }
  },
  "nbformat": 4,
  "nbformat_minor": 0
}