{
 "cells": [
  {
   "cell_type": "markdown",
   "metadata": {},
   "source": [
    "# Modelowanie szeregów  czasowych  z autokorelacją"
   ]
  },
  {
   "cell_type": "code",
   "execution_count": 1,
   "metadata": {},
   "outputs": [],
   "source": [
    "import numpy as np\n",
    "import pandas as pd\n",
    "import matplotlib.pyplot as plt\n",
    "%matplotlib inline\n",
    "\n",
    "from ts_utils import check_time_series_stationary\n",
    "from statsmodels.graphics.tsaplots import plot_acf, plot_pacf"
   ]
  },
  {
   "cell_type": "markdown",
   "metadata": {},
   "source": [
    "## Graficzna analiza przebiegu funkcji ACF i PACF\n",
    "\n",
    "- jeśli autokorelacja próbkowa $\\text{ACF}(h)$ znajduje się pomiędzy przedziałami ufności $\\pm 1,96 \\sqrt{n}$ dla $h > q$, to spodziewamy się, że dane są realizacją procesu $\\text{MA}(q)$;\n",
    "- jeśli cząstkowa autokorelacja próbkowa $\\text{PACF}(h)$ znajduje się pomiędzy przedziałami ufności $\\pm 1,96 \\sqrt{n}$ dla $h > p$, to spodziewamy się, że dane są realizacją procesu $\\text{AR}(p)$;"
   ]
  },
  {
   "cell_type": "markdown",
   "metadata": {},
   "source": [
    "## Model średniej ruchomej - $\\text{MA}(q)$\n",
    "\n",
    "**Modelem średniej ruchomej rzędu $q$** nazywamy stacjonarny szereg $Y_t$ spełniający równanie:\n",
    "$$Y_t = \\varepsilon_t + \\sum_{i=1}^q \\theta_i\\cdot \\varepsilon_{t-i},$$\n",
    "gdzie $\\theta_1, \\theta_2, \\ldots, \\theta_{q}$ są współczynnikami modelu oraz $\\varepsilon_t$ to biały szum."
   ]
  },
  {
   "cell_type": "markdown",
   "metadata": {},
   "source": [
    "## Zadanie - model MA(1)\n",
    "\n",
    "Wygeneruj 100 elementowy szereg MA(1): $Y_t = \\varepsilon_t + 0.9 \\cdot \\varepsilon_{t-1}$. Następnie sporządź wykresy ACF i PACF (`plot_acf` i `plot_pacf` z `statsmodels.graphics.tsaplots`)."
   ]
  },
  {
   "cell_type": "code",
   "execution_count": null,
   "metadata": {},
   "outputs": [],
   "source": []
  },
  {
   "cell_type": "code",
   "execution_count": null,
   "metadata": {},
   "outputs": [],
   "source": []
  },
  {
   "cell_type": "code",
   "execution_count": null,
   "metadata": {},
   "outputs": [],
   "source": []
  },
  {
   "cell_type": "code",
   "execution_count": null,
   "metadata": {},
   "outputs": [],
   "source": []
  },
  {
   "cell_type": "code",
   "execution_count": null,
   "metadata": {},
   "outputs": [],
   "source": []
  },
  {
   "cell_type": "markdown",
   "metadata": {},
   "source": [
    "## Zadanie - model MA(2)\n",
    "Wygeneruj 100 elementowy szereg MA(1): $Y_t = \\varepsilon_t + 0.9 \\cdot \\varepsilon_{t-1} + 0.7 * \\varepsilon_{t-2}$."
   ]
  },
  {
   "cell_type": "code",
   "execution_count": null,
   "metadata": {},
   "outputs": [],
   "source": []
  },
  {
   "cell_type": "code",
   "execution_count": null,
   "metadata": {},
   "outputs": [],
   "source": []
  },
  {
   "cell_type": "code",
   "execution_count": null,
   "metadata": {},
   "outputs": [],
   "source": []
  },
  {
   "cell_type": "code",
   "execution_count": null,
   "metadata": {},
   "outputs": [],
   "source": []
  },
  {
   "cell_type": "code",
   "execution_count": null,
   "metadata": {},
   "outputs": [],
   "source": []
  },
  {
   "cell_type": "markdown",
   "metadata": {},
   "source": [
    "## Model autoregresji rzędu $p$ - $\\text{AR}(p)$\n",
    "\n",
    "**Modelem autoregresji rzędu $p$** nazywamy stacjonarny szereg czasowy $Y_t$ spełniający równanie:\n",
    "$$Y_t = \\sum_{i=1}^p \\phi_i\\cdot Y_{t-i} + \\varepsilon_t,$$\n",
    "gdzie $\\phi_1, \\phi_2, \\ldots, \\phi_p$ są współczynnikami modelu oraz $\\varepsilon_t$ to biały szum."
   ]
  },
  {
   "cell_type": "markdown",
   "metadata": {},
   "source": [
    "## Zadanie - model AR(1) \n",
    "\n",
    "Wygeneruj 100 elementowy szereg AR(1): $Y_t = 0.8\\cdot Y_{t-1} + \\varepsilon_t$. Następnie sporządź wykresy ACF i PACF."
   ]
  },
  {
   "cell_type": "code",
   "execution_count": null,
   "metadata": {},
   "outputs": [],
   "source": []
  },
  {
   "cell_type": "code",
   "execution_count": null,
   "metadata": {},
   "outputs": [],
   "source": []
  },
  {
   "cell_type": "code",
   "execution_count": null,
   "metadata": {},
   "outputs": [],
   "source": []
  },
  {
   "cell_type": "code",
   "execution_count": null,
   "metadata": {},
   "outputs": [],
   "source": []
  },
  {
   "cell_type": "code",
   "execution_count": null,
   "metadata": {},
   "outputs": [],
   "source": []
  },
  {
   "cell_type": "markdown",
   "metadata": {},
   "source": [
    "## Zadanie - model AR(2) \n",
    "\n",
    "Wygeneruj 100 elementowy szereg AR(2): $Y_t = 0.7\\cdot Y_{t-2} + 0.8\\cdot Y_{t-1} + \\varepsilon_t$. Następnie sporządź wykresy ACF i PACF."
   ]
  },
  {
   "cell_type": "code",
   "execution_count": null,
   "metadata": {},
   "outputs": [],
   "source": []
  },
  {
   "cell_type": "code",
   "execution_count": null,
   "metadata": {},
   "outputs": [],
   "source": []
  },
  {
   "cell_type": "code",
   "execution_count": null,
   "metadata": {},
   "outputs": [],
   "source": []
  },
  {
   "cell_type": "code",
   "execution_count": null,
   "metadata": {},
   "outputs": [],
   "source": []
  },
  {
   "cell_type": "code",
   "execution_count": null,
   "metadata": {},
   "outputs": [],
   "source": []
  },
  {
   "cell_type": "markdown",
   "metadata": {},
   "source": [
    "## Model autoregresji ruchomej średniej - $\\text{ARMA}(p, q)$\n",
    "\n",
    "**Modelem autoregresji ruchomej średniej** nazywamy stacjonarny szereg czasowy $Y_t$ spełniający równanie:\n",
    "$$Y_t = \\sum_{i=1}^p \\phi_i\\cdot Y_{t-i} + \\sum_{j=1}^q \\theta_j \\cdot \\varepsilon_{t-j} + \\varepsilon_t,$$\n",
    "gdzie $\\phi_1, \\phi_2, \\ldots, \\phi_p$ oraz  $\\theta_1, \\theta_2, \\ldots, \\theta_{q}$ są współczynnikami modelu oraz $\\varepsilon_t$ to biały szum."
   ]
  },
  {
   "cell_type": "markdown",
   "metadata": {},
   "source": [
    "## Zadanie - model ARMA(1, 1)\n",
    "Wygeneruj 100 elementowy szereg ARMA(1, 1): $Y_t = 0.7\\cdot Y_{t-1} + 0.8\\cdot \\varepsilon_{t-1} + \\varepsilon_t$. Następnie sporządź wykresy ACF i PACF."
   ]
  },
  {
   "cell_type": "code",
   "execution_count": null,
   "metadata": {},
   "outputs": [],
   "source": []
  },
  {
   "cell_type": "code",
   "execution_count": null,
   "metadata": {},
   "outputs": [],
   "source": []
  },
  {
   "cell_type": "code",
   "execution_count": null,
   "metadata": {},
   "outputs": [],
   "source": []
  },
  {
   "cell_type": "code",
   "execution_count": null,
   "metadata": {},
   "outputs": [],
   "source": []
  },
  {
   "cell_type": "code",
   "execution_count": null,
   "metadata": {},
   "outputs": [],
   "source": []
  },
  {
   "cell_type": "markdown",
   "metadata": {},
   "source": [
    "## Zadanie - model ARMA(2, 1)\n",
    "Wygeneruj 100 elementowy szereg ARMA(1, 1): $Y_t = 0.5\\cdot Y_{t-2} + 0.7\\cdot Y_{t-1} + 0.8\\cdot \\varepsilon_{t-1} + \\varepsilon_t$. Następnie sporządź wykresy ACF i PACF."
   ]
  },
  {
   "cell_type": "code",
   "execution_count": null,
   "metadata": {},
   "outputs": [],
   "source": []
  },
  {
   "cell_type": "code",
   "execution_count": null,
   "metadata": {},
   "outputs": [],
   "source": []
  },
  {
   "cell_type": "code",
   "execution_count": null,
   "metadata": {},
   "outputs": [],
   "source": []
  },
  {
   "cell_type": "code",
   "execution_count": null,
   "metadata": {},
   "outputs": [],
   "source": []
  }
 ],
 "metadata": {
  "kernelspec": {
   "display_name": "Python 3",
   "language": "python",
   "name": "python3"
  },
  "language_info": {
   "codemirror_mode": {
    "name": "ipython",
    "version": 3
   },
   "file_extension": ".py",
   "mimetype": "text/x-python",
   "name": "python",
   "nbconvert_exporter": "python",
   "pygments_lexer": "ipython3",
   "version": "3.7.4"
  }
 },
 "nbformat": 4,
 "nbformat_minor": 2
}
