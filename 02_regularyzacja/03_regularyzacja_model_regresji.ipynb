{
  "cells": [
    {
      "cell_type": "markdown",
      "metadata": {
        "id": "20fO2Az4YB7c"
      },
      "source": [
        "# Regularyzacja w modelu regresji - zbiór `Hitter`"
      ]
    },
    {
      "cell_type": "code",
      "execution_count": 2,
      "metadata": {
        "colab": {
          "base_uri": "https://localhost:8080/"
        },
        "id": "r2wz2g5gYB7j",
        "outputId": "d9eacd90-d533-4bf5-99b8-87c923eb1678"
      },
      "outputs": [
        {
          "output_type": "stream",
          "name": "stderr",
          "text": [
            "/usr/local/lib/python3.7/dist-packages/statsmodels/tools/_testing.py:19: FutureWarning: pandas.util.testing is deprecated. Use the functions in the public API at pandas.testing instead.\n",
            "  import pandas.util.testing as tm\n"
          ]
        }
      ],
      "source": [
        "import numpy as np\n",
        "import pandas as pd\n",
        "\n",
        "import statsmodels.api as sm\n",
        "import statsmodels.formula.api as smf\n",
        "from patsy import dmatrices\n",
        "\n",
        "import matplotlib.pyplot as plt\n",
        "%matplotlib inline\n",
        "from matplotlib.pylab import rcParams\n",
        "rcParams['figure.figsize'] = 12, 10\n",
        "\n",
        "from sklearn.linear_model import LinearRegression\n",
        "from sklearn.linear_model import Ridge, RidgeCV\n",
        "from sklearn.linear_model import Lasso, LassoCV\n",
        "from sklearn.preprocessing import StandardScaler\n",
        "from sklearn.pipeline import make_pipeline\n",
        "from sklearn.preprocessing import PolynomialFeatures\n",
        "\n",
        "from sklearn.model_selection import GridSearchCV\n",
        "from sklearn.model_selection import cross_val_score\n",
        "import sklearn.metrics as metrics\n",
        "\n",
        "from scipy import stats"
      ]
    },
    {
      "cell_type": "markdown",
      "metadata": {
        "id": "12X_llZTYB7l"
      },
      "source": [
        "# Zadanie - `Hitter`"
      ]
    },
    {
      "cell_type": "markdown",
      "metadata": {
        "id": "j1wmvcKVYB7m"
      },
      "source": [
        "Zbiór `Hitter` (pakiet `ISLR`) zawiera dane z **Major League Baseball** z sezonu 1986 i 1987, zawierają 322 obserwacje na temat głównych zawodników scharakteryzowanym na podstawie następujących zmiennych: \n",
        "\n",
        "``AtBat``\n",
        "   Number of times at bat in 1986\n",
        "\n",
        "``Hits``\n",
        "   Number of hits in 1986\n",
        "\n",
        "``HmRun``\n",
        "   Number of home runs in 1986\n",
        "\n",
        "``Runs``\n",
        "   Number of runs in 1986\n",
        "\n",
        "``RBI``\n",
        "   Number of runs batted in in 1986\n",
        "\n",
        "``Walks``\n",
        "   Number of walks in 1986\n",
        "\n",
        "``Years``\n",
        "   Number of years in the major leagues\n",
        "\n",
        "``CAtBat``\n",
        "   Number of times at bat during his career\n",
        "\n",
        "``CHits``\n",
        "   Number of hits during his career\n",
        "\n",
        "``CHmRun``\n",
        "   Number of home runs during his career\n",
        "\n",
        "``CRuns``\n",
        "   Number of runs during his career\n",
        "\n",
        "``CRBI``\n",
        "   Number of runs batted in during his career\n",
        "\n",
        "``CWalks``\n",
        "   Number of walks during his career\n",
        "\n",
        "``League``\n",
        "   A factor with levels ``A`` and ``N`` indicating player's league at\n",
        "   the end of 1986\n",
        "\n",
        "``Division``\n",
        "   A factor with levels ``E`` and ``W`` indicating player's division at\n",
        "   the end of 1986\n",
        "\n",
        "``PutOuts``\n",
        "   Number of put outs in 1986\n",
        "\n",
        "``Assists``\n",
        "   Number of assists in 1986\n",
        "\n",
        "``Errors``\n",
        "   Number of errors in 1986\n",
        "\n",
        "``Salary``\n",
        "   1987 annual salary on opening day in thousands of dollars\n",
        "\n",
        "``NewLeague``\n",
        "   A factor with levels ``A`` and ``N`` indicating player's league at\n",
        "   the beginning of 1987"
      ]
    },
    {
      "cell_type": "markdown",
      "metadata": {
        "id": "6AZ-mb11YB7o"
      },
      "source": [
        "1. Dopasuj model regresji liniowej, w którym zmienną zależną jest zmienna `Salary` a pozostałe cechy zmiennymi niezależnymi.\n",
        "Wyznacz ocenę dopasowania modelu korzystając z kroswalidacji 10-krotnej dla następujących miar:\n",
        "   - błędu średniokwadratowego, \n",
        "   - mediany błędu bezwzględnego, \n",
        "   - wspóczynnik determinacji $R^2$.\n",
        "    \n",
        "    \n",
        "2. Dopasuj model regresji grzbietowej:\n",
        "\n",
        "   a) dla dowolnie wybranego parametru $\\alpha$ i wyznacz ocenę doapsowania modelu przy użyciu kroswalidacji 10-krotnej dla błędu średniokwadratowego, mediany błędu bezwzględnego, i wspóczynnik determinacji $R^2$.\n",
        "   \n",
        "   b) znajdź optymalną wartość parametru $\\alpha$ (`GridSearchCV`)\n",
        "   \n",
        "   c) sporządź wykres wartości współczynników regresji względem parametru $\\alpha$.\n",
        "   \n",
        "\n",
        "3. Dopasuj model regresji Lasso:\n",
        "\n",
        "   a) dla dowolnie wybranego parametru $\\alpha$ i wyznacz ocenę doapsowania modelu przy użyciu kroswalidacji 10-krotnej dla błędu średniokwadratowego, mediany błędu bezwzględnego, i wspóczynnik determinacji $R^2$.\n",
        "   \n",
        "   b) znajdź optymalną wartość parametru $\\alpha$ (`GridSearchCV`)\n",
        "   \n",
        "   c) sporządź wykres wartości współczynników regresji względem parametru $\\alpha$."
      ]
    },
    {
      "cell_type": "code",
      "execution_count": 3,
      "metadata": {
        "id": "V7yt3yBOYB7p"
      },
      "outputs": [],
      "source": [
        "hitters = sm.datasets.get_rdataset(dataname=\"Hitters\", package=\"ISLR\", cache=True)\n",
        "# print(hitters.__doc__)"
      ]
    },
    {
      "cell_type": "code",
      "execution_count": 4,
      "metadata": {
        "colab": {
          "base_uri": "https://localhost:8080/",
          "height": 206
        },
        "id": "zWgpzdUHYB7q",
        "outputId": "6e056555-11ad-4b85-c0fb-4a0ca9949da5"
      },
      "outputs": [
        {
          "output_type": "execute_result",
          "data": {
            "text/plain": [
              "                   AtBat  Hits  HmRun  Runs  RBI  Walks  Years  CAtBat  CHits  \\\n",
              "-Andy Allanson       293    66      1    30   29     14      1     293     66   \n",
              "-Alan Ashby          315    81      7    24   38     39     14    3449    835   \n",
              "-Alvin Davis         479   130     18    66   72     76      3    1624    457   \n",
              "-Andre Dawson        496   141     20    65   78     37     11    5628   1575   \n",
              "-Andres Galarraga    321    87     10    39   42     30      2     396    101   \n",
              "\n",
              "                   CHmRun  CRuns  CRBI  CWalks League Division  PutOuts  \\\n",
              "-Andy Allanson          1     30    29      14      A        E      446   \n",
              "-Alan Ashby            69    321   414     375      N        W      632   \n",
              "-Alvin Davis           63    224   266     263      A        W      880   \n",
              "-Andre Dawson         225    828   838     354      N        E      200   \n",
              "-Andres Galarraga      12     48    46      33      N        E      805   \n",
              "\n",
              "                   Assists  Errors  Salary NewLeague  \n",
              "-Andy Allanson          33      20     NaN         A  \n",
              "-Alan Ashby             43      10   475.0         N  \n",
              "-Alvin Davis            82      14   480.0         A  \n",
              "-Andre Dawson           11       3   500.0         N  \n",
              "-Andres Galarraga       40       4    91.5         N  "
            ],
            "text/html": [
              "\n",
              "  <div id=\"df-a4651f10-6c93-4680-ab57-7505ac71c587\">\n",
              "    <div class=\"colab-df-container\">\n",
              "      <div>\n",
              "<style scoped>\n",
              "    .dataframe tbody tr th:only-of-type {\n",
              "        vertical-align: middle;\n",
              "    }\n",
              "\n",
              "    .dataframe tbody tr th {\n",
              "        vertical-align: top;\n",
              "    }\n",
              "\n",
              "    .dataframe thead th {\n",
              "        text-align: right;\n",
              "    }\n",
              "</style>\n",
              "<table border=\"1\" class=\"dataframe\">\n",
              "  <thead>\n",
              "    <tr style=\"text-align: right;\">\n",
              "      <th></th>\n",
              "      <th>AtBat</th>\n",
              "      <th>Hits</th>\n",
              "      <th>HmRun</th>\n",
              "      <th>Runs</th>\n",
              "      <th>RBI</th>\n",
              "      <th>Walks</th>\n",
              "      <th>Years</th>\n",
              "      <th>CAtBat</th>\n",
              "      <th>CHits</th>\n",
              "      <th>CHmRun</th>\n",
              "      <th>CRuns</th>\n",
              "      <th>CRBI</th>\n",
              "      <th>CWalks</th>\n",
              "      <th>League</th>\n",
              "      <th>Division</th>\n",
              "      <th>PutOuts</th>\n",
              "      <th>Assists</th>\n",
              "      <th>Errors</th>\n",
              "      <th>Salary</th>\n",
              "      <th>NewLeague</th>\n",
              "    </tr>\n",
              "  </thead>\n",
              "  <tbody>\n",
              "    <tr>\n",
              "      <th>-Andy Allanson</th>\n",
              "      <td>293</td>\n",
              "      <td>66</td>\n",
              "      <td>1</td>\n",
              "      <td>30</td>\n",
              "      <td>29</td>\n",
              "      <td>14</td>\n",
              "      <td>1</td>\n",
              "      <td>293</td>\n",
              "      <td>66</td>\n",
              "      <td>1</td>\n",
              "      <td>30</td>\n",
              "      <td>29</td>\n",
              "      <td>14</td>\n",
              "      <td>A</td>\n",
              "      <td>E</td>\n",
              "      <td>446</td>\n",
              "      <td>33</td>\n",
              "      <td>20</td>\n",
              "      <td>NaN</td>\n",
              "      <td>A</td>\n",
              "    </tr>\n",
              "    <tr>\n",
              "      <th>-Alan Ashby</th>\n",
              "      <td>315</td>\n",
              "      <td>81</td>\n",
              "      <td>7</td>\n",
              "      <td>24</td>\n",
              "      <td>38</td>\n",
              "      <td>39</td>\n",
              "      <td>14</td>\n",
              "      <td>3449</td>\n",
              "      <td>835</td>\n",
              "      <td>69</td>\n",
              "      <td>321</td>\n",
              "      <td>414</td>\n",
              "      <td>375</td>\n",
              "      <td>N</td>\n",
              "      <td>W</td>\n",
              "      <td>632</td>\n",
              "      <td>43</td>\n",
              "      <td>10</td>\n",
              "      <td>475.0</td>\n",
              "      <td>N</td>\n",
              "    </tr>\n",
              "    <tr>\n",
              "      <th>-Alvin Davis</th>\n",
              "      <td>479</td>\n",
              "      <td>130</td>\n",
              "      <td>18</td>\n",
              "      <td>66</td>\n",
              "      <td>72</td>\n",
              "      <td>76</td>\n",
              "      <td>3</td>\n",
              "      <td>1624</td>\n",
              "      <td>457</td>\n",
              "      <td>63</td>\n",
              "      <td>224</td>\n",
              "      <td>266</td>\n",
              "      <td>263</td>\n",
              "      <td>A</td>\n",
              "      <td>W</td>\n",
              "      <td>880</td>\n",
              "      <td>82</td>\n",
              "      <td>14</td>\n",
              "      <td>480.0</td>\n",
              "      <td>A</td>\n",
              "    </tr>\n",
              "    <tr>\n",
              "      <th>-Andre Dawson</th>\n",
              "      <td>496</td>\n",
              "      <td>141</td>\n",
              "      <td>20</td>\n",
              "      <td>65</td>\n",
              "      <td>78</td>\n",
              "      <td>37</td>\n",
              "      <td>11</td>\n",
              "      <td>5628</td>\n",
              "      <td>1575</td>\n",
              "      <td>225</td>\n",
              "      <td>828</td>\n",
              "      <td>838</td>\n",
              "      <td>354</td>\n",
              "      <td>N</td>\n",
              "      <td>E</td>\n",
              "      <td>200</td>\n",
              "      <td>11</td>\n",
              "      <td>3</td>\n",
              "      <td>500.0</td>\n",
              "      <td>N</td>\n",
              "    </tr>\n",
              "    <tr>\n",
              "      <th>-Andres Galarraga</th>\n",
              "      <td>321</td>\n",
              "      <td>87</td>\n",
              "      <td>10</td>\n",
              "      <td>39</td>\n",
              "      <td>42</td>\n",
              "      <td>30</td>\n",
              "      <td>2</td>\n",
              "      <td>396</td>\n",
              "      <td>101</td>\n",
              "      <td>12</td>\n",
              "      <td>48</td>\n",
              "      <td>46</td>\n",
              "      <td>33</td>\n",
              "      <td>N</td>\n",
              "      <td>E</td>\n",
              "      <td>805</td>\n",
              "      <td>40</td>\n",
              "      <td>4</td>\n",
              "      <td>91.5</td>\n",
              "      <td>N</td>\n",
              "    </tr>\n",
              "  </tbody>\n",
              "</table>\n",
              "</div>\n",
              "      <button class=\"colab-df-convert\" onclick=\"convertToInteractive('df-a4651f10-6c93-4680-ab57-7505ac71c587')\"\n",
              "              title=\"Convert this dataframe to an interactive table.\"\n",
              "              style=\"display:none;\">\n",
              "        \n",
              "  <svg xmlns=\"http://www.w3.org/2000/svg\" height=\"24px\"viewBox=\"0 0 24 24\"\n",
              "       width=\"24px\">\n",
              "    <path d=\"M0 0h24v24H0V0z\" fill=\"none\"/>\n",
              "    <path d=\"M18.56 5.44l.94 2.06.94-2.06 2.06-.94-2.06-.94-.94-2.06-.94 2.06-2.06.94zm-11 1L8.5 8.5l.94-2.06 2.06-.94-2.06-.94L8.5 2.5l-.94 2.06-2.06.94zm10 10l.94 2.06.94-2.06 2.06-.94-2.06-.94-.94-2.06-.94 2.06-2.06.94z\"/><path d=\"M17.41 7.96l-1.37-1.37c-.4-.4-.92-.59-1.43-.59-.52 0-1.04.2-1.43.59L10.3 9.45l-7.72 7.72c-.78.78-.78 2.05 0 2.83L4 21.41c.39.39.9.59 1.41.59.51 0 1.02-.2 1.41-.59l7.78-7.78 2.81-2.81c.8-.78.8-2.07 0-2.86zM5.41 20L4 18.59l7.72-7.72 1.47 1.35L5.41 20z\"/>\n",
              "  </svg>\n",
              "      </button>\n",
              "      \n",
              "  <style>\n",
              "    .colab-df-container {\n",
              "      display:flex;\n",
              "      flex-wrap:wrap;\n",
              "      gap: 12px;\n",
              "    }\n",
              "\n",
              "    .colab-df-convert {\n",
              "      background-color: #E8F0FE;\n",
              "      border: none;\n",
              "      border-radius: 50%;\n",
              "      cursor: pointer;\n",
              "      display: none;\n",
              "      fill: #1967D2;\n",
              "      height: 32px;\n",
              "      padding: 0 0 0 0;\n",
              "      width: 32px;\n",
              "    }\n",
              "\n",
              "    .colab-df-convert:hover {\n",
              "      background-color: #E2EBFA;\n",
              "      box-shadow: 0px 1px 2px rgba(60, 64, 67, 0.3), 0px 1px 3px 1px rgba(60, 64, 67, 0.15);\n",
              "      fill: #174EA6;\n",
              "    }\n",
              "\n",
              "    [theme=dark] .colab-df-convert {\n",
              "      background-color: #3B4455;\n",
              "      fill: #D2E3FC;\n",
              "    }\n",
              "\n",
              "    [theme=dark] .colab-df-convert:hover {\n",
              "      background-color: #434B5C;\n",
              "      box-shadow: 0px 1px 3px 1px rgba(0, 0, 0, 0.15);\n",
              "      filter: drop-shadow(0px 1px 2px rgba(0, 0, 0, 0.3));\n",
              "      fill: #FFFFFF;\n",
              "    }\n",
              "  </style>\n",
              "\n",
              "      <script>\n",
              "        const buttonEl =\n",
              "          document.querySelector('#df-a4651f10-6c93-4680-ab57-7505ac71c587 button.colab-df-convert');\n",
              "        buttonEl.style.display =\n",
              "          google.colab.kernel.accessAllowed ? 'block' : 'none';\n",
              "\n",
              "        async function convertToInteractive(key) {\n",
              "          const element = document.querySelector('#df-a4651f10-6c93-4680-ab57-7505ac71c587');\n",
              "          const dataTable =\n",
              "            await google.colab.kernel.invokeFunction('convertToInteractive',\n",
              "                                                     [key], {});\n",
              "          if (!dataTable) return;\n",
              "\n",
              "          const docLinkHtml = 'Like what you see? Visit the ' +\n",
              "            '<a target=\"_blank\" href=https://colab.research.google.com/notebooks/data_table.ipynb>data table notebook</a>'\n",
              "            + ' to learn more about interactive tables.';\n",
              "          element.innerHTML = '';\n",
              "          dataTable['output_type'] = 'display_data';\n",
              "          await google.colab.output.renderOutput(dataTable, element);\n",
              "          const docLink = document.createElement('div');\n",
              "          docLink.innerHTML = docLinkHtml;\n",
              "          element.appendChild(docLink);\n",
              "        }\n",
              "      </script>\n",
              "    </div>\n",
              "  </div>\n",
              "  "
            ]
          },
          "metadata": {},
          "execution_count": 4
        }
      ],
      "source": [
        "hitters.data.head()"
      ]
    },
    {
      "cell_type": "code",
      "execution_count": 5,
      "metadata": {
        "scrolled": false,
        "colab": {
          "base_uri": "https://localhost:8080/"
        },
        "id": "8ciPJf-TYB7s",
        "outputId": "4cab6838-5ff3-4118-fecc-b3b40e736a28"
      },
      "outputs": [
        {
          "output_type": "stream",
          "name": "stdout",
          "text": [
            "<class 'pandas.core.frame.DataFrame'>\n",
            "Index: 322 entries, -Andy Allanson to -Willie Wilson\n",
            "Data columns (total 20 columns):\n",
            " #   Column     Non-Null Count  Dtype  \n",
            "---  ------     --------------  -----  \n",
            " 0   AtBat      322 non-null    int64  \n",
            " 1   Hits       322 non-null    int64  \n",
            " 2   HmRun      322 non-null    int64  \n",
            " 3   Runs       322 non-null    int64  \n",
            " 4   RBI        322 non-null    int64  \n",
            " 5   Walks      322 non-null    int64  \n",
            " 6   Years      322 non-null    int64  \n",
            " 7   CAtBat     322 non-null    int64  \n",
            " 8   CHits      322 non-null    int64  \n",
            " 9   CHmRun     322 non-null    int64  \n",
            " 10  CRuns      322 non-null    int64  \n",
            " 11  CRBI       322 non-null    int64  \n",
            " 12  CWalks     322 non-null    int64  \n",
            " 13  League     322 non-null    object \n",
            " 14  Division   322 non-null    object \n",
            " 15  PutOuts    322 non-null    int64  \n",
            " 16  Assists    322 non-null    int64  \n",
            " 17  Errors     322 non-null    int64  \n",
            " 18  Salary     263 non-null    float64\n",
            " 19  NewLeague  322 non-null    object \n",
            "dtypes: float64(1), int64(16), object(3)\n",
            "memory usage: 52.8+ KB\n"
          ]
        }
      ],
      "source": [
        "hitters.data.info()"
      ]
    },
    {
      "cell_type": "code",
      "execution_count": 6,
      "metadata": {
        "id": "dk_XTWRFYB7t"
      },
      "outputs": [],
      "source": [
        "hitters = hitters.data.dropna()\n",
        "hitters = hitters.drop(['League', 'Division', 'NewLeague'], axis = 1)"
      ]
    },
    {
      "cell_type": "code",
      "execution_count": 7,
      "metadata": {
        "id": "JVRvIB1TYB7u"
      },
      "outputs": [],
      "source": [
        "## Podział zbioru na zmienne niezależne i zmienną zależną\n",
        "X, y = hitters.iloc[:, hitters.columns != 'Salary'], hitters['Salary']"
      ]
    },
    {
      "cell_type": "code",
      "execution_count": 8,
      "metadata": {
        "colab": {
          "base_uri": "https://localhost:8080/"
        },
        "id": "KoiuYqLUYB7v",
        "outputId": "5e57906c-f541-4c58-dd03-7bb0f8ea70dc"
      },
      "outputs": [
        {
          "output_type": "execute_result",
          "data": {
            "text/plain": [
              "LinearRegression()"
            ]
          },
          "metadata": {},
          "execution_count": 8
        }
      ],
      "source": [
        "#zwykła regresja liniowa\n",
        "model_linear_regression = LinearRegression()\n",
        "model_linear_regression.fit(X, y)"
      ]
    },
    {
      "cell_type": "code",
      "execution_count": 9,
      "metadata": {
        "id": "z4Kpm26vYB7x"
      },
      "outputs": [],
      "source": [
        "#rozważamy miary MSE, MAE, R^2 obliczone przy koswalidacji 10krotnej\n",
        "mse = -cross_val_score(estimator=model_linear_regression, X=X, y=y, scoring='neg_mean_squared_error', cv=10).mean()\n",
        "mae = -cross_val_score(estimator=model_linear_regression, X=X, y=y, scoring='neg_median_absolute_error', cv=10).mean()\n",
        "r2 = cross_val_score(estimator=model_linear_regression, X=X, y=y, scoring='r2', cv=10).mean()\n",
        "\n",
        "results_linear_regression = {}\n",
        "results_linear_regression['mse'] = mse\n",
        "results_linear_regression['mae'] = mae\n",
        "results_linear_regression['r2'] = r2"
      ]
    },
    {
      "cell_type": "code",
      "execution_count": 10,
      "metadata": {
        "colab": {
          "base_uri": "https://localhost:8080/"
        },
        "id": "bcMqGJCLYB7y",
        "outputId": "2af86416-1528-4584-f977-ea47a9d346d5"
      },
      "outputs": [
        {
          "output_type": "execute_result",
          "data": {
            "text/plain": [
              "{'mae': 173.21567461796292,\n",
              " 'mse': 118756.28241460072,\n",
              " 'r2': 0.3261309242607547}"
            ]
          },
          "metadata": {},
          "execution_count": 10
        }
      ],
      "source": [
        "results_linear_regression"
      ]
    },
    {
      "cell_type": "code",
      "source": [
        "# MSE o wiele większe od MAE może być to spowodowane bardzo niesymetrycznym rozkładem y\n",
        "plt.hist(y)"
      ],
      "metadata": {
        "colab": {
          "base_uri": "https://localhost:8080/",
          "height": 665
        },
        "id": "MC84HqWpaLGk",
        "outputId": "bf027e14-de68-468a-8fdc-ac6ad3dd52e9"
      },
      "execution_count": 12,
      "outputs": [
        {
          "output_type": "execute_result",
          "data": {
            "text/plain": [
              "(array([108.,  50.,  49.,  27.,  11.,   7.,   2.,   6.,   1.,   2.]),\n",
              " array([  67.5 ,  306.75,  546.  ,  785.25, 1024.5 , 1263.75, 1503.  ,\n",
              "        1742.25, 1981.5 , 2220.75, 2460.  ]),\n",
              " <a list of 10 Patch objects>)"
            ]
          },
          "metadata": {},
          "execution_count": 12
        },
        {
          "output_type": "display_data",
          "data": {
            "text/plain": [
              "<Figure size 864x720 with 1 Axes>"
            ],
            "image/png": "[encoded data removed]"
          },
          "metadata": {
            "needs_background": "light"
          }
        }
      ]
    },
    {
      "cell_type": "code",
      "execution_count": 13,
      "metadata": {
        "id": "4045THV1YB7z"
      },
      "outputs": [],
      "source": [
        "# Regresja z regularyzacja Ridge\n",
        "model_ridge_regression = make_pipeline(\n",
        "    StandardScaler(), \n",
        "    Ridge(alpha=1)\n",
        ")"
      ]
    },
    {
      "cell_type": "code",
      "execution_count": 14,
      "metadata": {
        "id": "_Xk_fw6lYB70"
      },
      "outputs": [],
      "source": [
        "#rozważamy miary MSE, MAE, R^2 obliczone przy koswalidacji 10krotnej\n",
        "def cv_model(model, X, y):\n",
        "    mse = -cross_val_score(estimator=model, X=X, y=y, scoring='neg_mean_squared_error', cv=10).mean()\n",
        "    mae = -cross_val_score(estimator=model, X=X, y=y, scoring='neg_median_absolute_error', cv=10).mean()\n",
        "    r2 = cross_val_score(estimator=model, X=X, y=y, scoring='r2', cv=10).mean()\n",
        "\n",
        "    results = {}\n",
        "    results['mse'] = mse\n",
        "    results['mae'] = mae\n",
        "    results['r2'] = r2\n",
        "    return results"
      ]
    },
    {
      "cell_type": "code",
      "execution_count": null,
      "metadata": {
        "colab": {
          "base_uri": "https://localhost:8080/"
        },
        "id": "RxfsFsRFYB70",
        "outputId": "b61479d5-c9ea-45ff-e385-ae924983e20b"
      },
      "outputs": [
        {
          "output_type": "execute_result",
          "data": {
            "text/plain": [
              "{'mae': 163.95230776776864,\n",
              " 'mse': 116844.6017982421,\n",
              " 'r2': 0.34173025725161926}"
            ]
          },
          "metadata": {},
          "execution_count": 21
        }
      ],
      "source": [
        "#lepsze dopasowanie za pomocą kroswalidacji niż w przypadku zwykłej regresji liniowej\n",
        "cv_model(model_ridge_regression, X, y)"
      ]
    },
    {
      "cell_type": "markdown",
      "metadata": {
        "id": "JZ9kgvlRYB71"
      },
      "source": [
        "# `Gridsearch`"
      ]
    },
    {
      "cell_type": "code",
      "execution_count": 15,
      "metadata": {
        "colab": {
          "base_uri": "https://localhost:8080/"
        },
        "id": "kQ8XtueYYB71",
        "outputId": "d51468a4-013b-4750-d284-f419865681d3"
      },
      "outputs": [
        {
          "output_type": "execute_result",
          "data": {
            "text/plain": [
              "GridSearchCV(cv=10,\n",
              "             estimator=Pipeline(steps=[('standardscaler', StandardScaler()),\n",
              "                                       ('ridge', Ridge())]),\n",
              "             param_grid={'ridge__alpha': array([ 0.01      ,  0.11090909,  0.21181818,  0.31272727,  0.41363636,\n",
              "        0.51454545,  0.61545455,  0.71636364,  0.81727273,  0.91818182,\n",
              "        1.01909091,  1.12      ,  1.22090909,  1.32181818,  1.42272727,\n",
              "        1.52363636,  1.62454545,  1.72545455,  1.82636364,  1.92727273,\n",
              "        2.02818...\n",
              "        6.56909091,  6.67      ,  6.77090909,  6.87181818,  6.97272727,\n",
              "        7.07363636,  7.17454545,  7.27545455,  7.37636364,  7.47727273,\n",
              "        7.57818182,  7.67909091,  7.78      ,  7.88090909,  7.98181818,\n",
              "        8.08272727,  8.18363636,  8.28454545,  8.38545455,  8.48636364,\n",
              "        8.58727273,  8.68818182,  8.78909091,  8.89      ,  8.99090909,\n",
              "        9.09181818,  9.19272727,  9.29363636,  9.39454545,  9.49545455,\n",
              "        9.59636364,  9.69727273,  9.79818182,  9.89909091, 10.        ])},\n",
              "             scoring='neg_mean_squared_error')"
            ]
          },
          "metadata": {},
          "execution_count": 15
        }
      ],
      "source": [
        "#wcześniej patrzyliśmy jak się to zachowuje dla ustalonej alphy\n",
        "estimator_ridge = make_pipeline(\n",
        "    StandardScaler(), \n",
        "    Ridge()\n",
        ")\n",
        "\n",
        "#grid bierze estymator i wyszukuje jak najlepszy jego parametr (w przypadku ridge czy lasso chodzi o parametr alpha)\n",
        "grid = GridSearchCV(\n",
        "    estimator=estimator_ridge, \n",
        "    param_grid = {'ridge__alpha': np.linspace(0.01, 10, 100)},\n",
        "    scoring='neg_mean_squared_error',\n",
        "    cv=10\n",
        ")\n",
        "#dopasowujemy model ridge dla alpha optymalnego dla danych na których uczymy model\n",
        "grid.fit(X, y)"
      ]
    },
    {
      "cell_type": "code",
      "execution_count": 16,
      "metadata": {
        "colab": {
          "base_uri": "https://localhost:8080/"
        },
        "id": "NDPDhNRtYB72",
        "outputId": "d673f209-0d9b-4db6-84db-b2cbd7d3ed6f"
      },
      "outputs": [
        {
          "output_type": "execute_result",
          "data": {
            "text/plain": [
              "{'ridge__alpha': 1.8263636363636364}"
            ]
          },
          "metadata": {},
          "execution_count": 16
        }
      ],
      "source": [
        "grid.best_params_ #najlepsza alpha"
      ]
    },
    {
      "cell_type": "code",
      "execution_count": null,
      "metadata": {
        "colab": {
          "base_uri": "https://localhost:8080/"
        },
        "id": "BsBNw6zEYB73",
        "outputId": "0300bc95-3f28-4092-b4fe-e1c618113e09"
      },
      "outputs": [
        {
          "output_type": "execute_result",
          "data": {
            "text/plain": [
              "116735.61311212038"
            ]
          },
          "metadata": {},
          "execution_count": 37
        }
      ],
      "source": [
        "-grid.best_score_ #MSE"
      ]
    },
    {
      "cell_type": "code",
      "execution_count": 17,
      "metadata": {
        "id": "2l7l-npuYB74"
      },
      "outputs": [],
      "source": [
        "grid_best = grid.best_estimator_\n",
        "\n",
        "# ridge = make_pipeline(\n",
        "#     StandardScaler(), \n",
        "#     Ridge(alpha=grid.best_params_)\n",
        "# ) - Ridge z najlepszą alphą"
      ]
    },
    {
      "cell_type": "code",
      "source": [
        "print(grid_best['ridge'].coef_)\n",
        "grid_best['ridge'].intercept_ #współczynniki"
      ],
      "metadata": {
        "colab": {
          "base_uri": "https://localhost:8080/"
        },
        "id": "mnbrm5Spfqnf",
        "outputId": "58db9b0f-97a3-408a-a5f2-36d92dfd55ce"
      },
      "execution_count": 19,
      "outputs": [
        {
          "output_type": "stream",
          "name": "stdout",
          "text": [
            "[-278.91628529  279.23413707   -8.1903506    -4.48118841   22.5088868\n",
            "  114.69263401  -42.38129766 -177.18166575  115.19049455   52.30653646\n",
            "  288.83480788  124.197989   -159.29930532   81.38437236   46.01913446\n",
            "  -21.95545652]\n"
          ]
        },
        {
          "output_type": "execute_result",
          "data": {
            "text/plain": [
              "535.9258821292775"
            ]
          },
          "metadata": {},
          "execution_count": 19
        }
      ]
    },
    {
      "cell_type": "code",
      "execution_count": 20,
      "metadata": {
        "colab": {
          "base_uri": "https://localhost:8080/"
        },
        "id": "7qu9dsK9YB74",
        "outputId": "2a2ee95a-df82-47f2-9400-314980e6c64c"
      },
      "outputs": [
        {
          "output_type": "execute_result",
          "data": {
            "text/plain": [
              "{'mae': 160.62366725288683,\n",
              " 'mse': 116735.61311212038,\n",
              " 'r2': 0.3460166242534291}"
            ]
          },
          "metadata": {},
          "execution_count": 20
        }
      ],
      "source": [
        "cv_model(grid.best_estimator_, X, y) # jeszcze mniejsze, ale nie dziwi to, skoro alphę szukamy tak, aby minimalizowała MSE na zbiorze kroswalidacyjnym.\n",
        "#Przydałby się zbiór testowy"
      ]
    },
    {
      "cell_type": "code",
      "execution_count": 21,
      "metadata": {
        "colab": {
          "base_uri": "https://localhost:8080/",
          "height": 621
        },
        "id": "O7FnoAYQYB74",
        "outputId": "ee7008c7-3bd7-4bc6-bbe3-ae04d08b5c76"
      },
      "outputs": [
        {
          "output_type": "display_data",
          "data": {
            "text/plain": [
              "<Figure size 1440x720 with 1 Axes>"
            ],
            "image/png": "[encoded data removed]"
          },
          "metadata": {
            "needs_background": "light"
          }
        }
      ],
      "source": [
        "#2c\n",
        "#patrzymy jak zmieniają się współczynniki beta ridge wraz ze wzrostem alphy \n",
        "plt.figure(figsize=(20, 10))\n",
        "\n",
        "alpha_vec =  np.linspace(0, 100, 100)\n",
        "\n",
        "coefs = []\n",
        "for a in alpha_vec:\n",
        "    model_ridge_regression = make_pipeline(\n",
        "        StandardScaler(),\n",
        "        Ridge(alpha = a)\n",
        "    )\n",
        "    model_ridge_regression.fit(X, y)\n",
        "    coefs.append(model_ridge_regression.named_steps['ridge'].coef_)\n",
        "\n",
        "\n",
        "plt.plot(alpha_vec, coefs)\n",
        "plt.plot([np.min(alpha_vec), np.max(alpha_vec)], [0, 0], '-.', color = 'black')\n",
        "plt.title('Wykres wielkości współczynników regresji liniowej z regularyzacją grzbietową w zależności od siły regularyzacji (parametr alpha)')\n",
        "plt.xlabel('alpha')\n",
        "plt.ylabel('coefficients')\n",
        "plt.legend(X.columns)\n",
        "plt.show()"
      ]
    },
    {
      "cell_type": "markdown",
      "metadata": {
        "id": "fiKEcORsYB75"
      },
      "source": [
        "## Regresja wielomianowa z regularyzacją ridge"
      ]
    },
    {
      "cell_type": "code",
      "execution_count": 22,
      "metadata": {
        "scrolled": true,
        "colab": {
          "base_uri": "https://localhost:8080/"
        },
        "id": "EBfx6afiYB75",
        "outputId": "79a2cd97-3fad-40e4-f790-4f2affc07796"
      },
      "outputs": [
        {
          "output_type": "execute_result",
          "data": {
            "text/plain": [
              "Pipeline(steps=[('polynomialfeatures', PolynomialFeatures()),\n",
              "                ('standardscaler', StandardScaler()), ('ridge', Ridge())])"
            ]
          },
          "metadata": {},
          "execution_count": 22
        }
      ],
      "source": [
        "#teraz łączymy regresję wielomianową z regularyzacją ridge\n",
        "poly_ridge_estimator = make_pipeline(\n",
        "    PolynomialFeatures(),\n",
        "    StandardScaler(),\n",
        "    Ridge()\n",
        ")\n",
        "poly_ridge_estimator"
      ]
    },
    {
      "cell_type": "code",
      "execution_count": 23,
      "metadata": {
        "id": "AU-10_O_YB75"
      },
      "outputs": [],
      "source": [
        "import warnings\n",
        "warnings.filterwarnings('ignore')"
      ]
    },
    {
      "cell_type": "code",
      "execution_count": 24,
      "metadata": {
        "scrolled": true,
        "colab": {
          "base_uri": "https://localhost:8080/"
        },
        "id": "wTevmFGQYB76",
        "outputId": "b6ebba87-d617-465c-eff5-7a6e91463e9a"
      },
      "outputs": [
        {
          "output_type": "execute_result",
          "data": {
            "text/plain": [
              "GridSearchCV(cv=10,\n",
              "             estimator=Pipeline(steps=[('polynomialfeatures',\n",
              "                                        PolynomialFeatures()),\n",
              "                                       ('standardscaler', StandardScaler()),\n",
              "                                       ('ridge', Ridge())]),\n",
              "             param_grid={'polynomialfeatures__degree': [1, 2, 3, 4, 5],\n",
              "                         'ridge__alpha': array([0.        , 0.11111111, 0.22222222, 0.33333333, 0.44444444,\n",
              "       0.55555556, 0.66666667, 0.77777778, 0.88888889, 1.        ])},\n",
              "             scoring='neg_mean_squared_error')"
            ]
          },
          "metadata": {},
          "execution_count": 24
        }
      ],
      "source": [
        "#bierzemy siatkę potęg wielomianów i siatkę alph\n",
        "grid2 = GridSearchCV(\n",
        "    estimator=poly_ridge_estimator,\n",
        "    param_grid={\n",
        "        'polynomialfeatures__degree': [1, 2, 3, 4, 5],\n",
        "        'ridge__alpha': np.linspace(0, 1, 10)\n",
        "    },\n",
        "    scoring='neg_mean_squared_error',\n",
        "    cv=10\n",
        ")\n",
        "\n",
        "grid2.fit(X, y)"
      ]
    },
    {
      "cell_type": "code",
      "execution_count": 25,
      "metadata": {
        "colab": {
          "base_uri": "https://localhost:8080/"
        },
        "id": "zS-aGykNYB76",
        "outputId": "6eabfba3-aec5-4e74-c822-4eb3d43ab442"
      },
      "outputs": [
        {
          "output_type": "execute_result",
          "data": {
            "text/plain": [
              "{'polynomialfeatures__degree': 2, 'ridge__alpha': 0.8888888888888888}"
            ]
          },
          "metadata": {},
          "execution_count": 25
        }
      ],
      "source": [
        "grid2.best_params_ #optymalne parametry"
      ]
    },
    {
      "cell_type": "code",
      "execution_count": 29,
      "metadata": {
        "colab": {
          "base_uri": "https://localhost:8080/"
        },
        "id": "7HkUIoZyYB76",
        "outputId": "020a4463-b400-4eed-edcc-e56e10f90804"
      },
      "outputs": [
        {
          "output_type": "execute_result",
          "data": {
            "text/plain": [
              "{'mae': 132.5575070504186, 'mse': 89146.61655078983, 'r2': 0.4969214164097261}"
            ]
          },
          "metadata": {},
          "execution_count": 29
        }
      ],
      "source": [
        "cv_model(grid2.best_estimator_, X, y) #miary obliczone za pomocą kroswalidacji, która posłużyła do znalezienia optymalnej pary parametrów, więc wynik będzie bardzo dobry,\n",
        "# bo na tych samych zbiorach szukamy optymalnych parametrów, a także liczymy jeszcze raz miary dla najlepszego modelu"
      ]
    },
    {
      "cell_type": "markdown",
      "metadata": {
        "id": "AzId_gSEYB76"
      },
      "source": [
        "## Lasso"
      ]
    },
    {
      "cell_type": "code",
      "source": [
        "#regresja lasso\n",
        "estimator_lasso = make_pipeline(\n",
        "    StandardScaler(), \n",
        "    Lasso()\n",
        ")\n",
        "\n",
        "#grid bierze estymator i wyszukuje jak najlepszy jego parametr (w przypadku ridge czy lasso chodzi o parametr alpha)\n",
        "grid = GridSearchCV(\n",
        "    estimator=estimator_lasso, \n",
        "    param_grid = {'lasso__alpha': np.linspace(0.01, 10, 100)},\n",
        "    scoring='neg_mean_squared_error',\n",
        "    cv=10\n",
        ")\n",
        "#dopasowujemy model lasso dla alpha optymalnego dla danych na których uczymy model\n",
        "grid.fit(X, y)"
      ],
      "metadata": {
        "colab": {
          "base_uri": "https://localhost:8080/"
        },
        "id": "pt955jiSK3gN",
        "outputId": "bc26c717-4d49-4703-f1e4-2ca4ee5c2c1d"
      },
      "execution_count": 36,
      "outputs": [
        {
          "output_type": "execute_result",
          "data": {
            "text/plain": [
              "GridSearchCV(cv=10,\n",
              "             estimator=Pipeline(steps=[('standardscaler', StandardScaler()),\n",
              "                                       ('lasso', Lasso())]),\n",
              "             param_grid={'lasso__alpha': array([ 0.01      ,  0.11090909,  0.21181818,  0.31272727,  0.41363636,\n",
              "        0.51454545,  0.61545455,  0.71636364,  0.81727273,  0.91818182,\n",
              "        1.01909091,  1.12      ,  1.22090909,  1.32181818,  1.42272727,\n",
              "        1.52363636,  1.62454545,  1.72545455,  1.82636364,  1.92727273,\n",
              "        2.02818...\n",
              "        6.56909091,  6.67      ,  6.77090909,  6.87181818,  6.97272727,\n",
              "        7.07363636,  7.17454545,  7.27545455,  7.37636364,  7.47727273,\n",
              "        7.57818182,  7.67909091,  7.78      ,  7.88090909,  7.98181818,\n",
              "        8.08272727,  8.18363636,  8.28454545,  8.38545455,  8.48636364,\n",
              "        8.58727273,  8.68818182,  8.78909091,  8.89      ,  8.99090909,\n",
              "        9.09181818,  9.19272727,  9.29363636,  9.39454545,  9.49545455,\n",
              "        9.59636364,  9.69727273,  9.79818182,  9.89909091, 10.        ])},\n",
              "             scoring='neg_mean_squared_error')"
            ]
          },
          "metadata": {},
          "execution_count": 36
        }
      ]
    },
    {
      "cell_type": "code",
      "source": [
        "grid.best_params_ #najlepsza alpha (mniejsza niż optymalna dla ridge, tak z reguły jest lasso mocniej ściąga współczynniki)"
      ],
      "metadata": {
        "colab": {
          "base_uri": "https://localhost:8080/"
        },
        "id": "1vdIXEC2L8ZT",
        "outputId": "8844e5b8-bf75-4277-a382-63f48de330da"
      },
      "execution_count": 39,
      "outputs": [
        {
          "output_type": "execute_result",
          "data": {
            "text/plain": [
              "{'lasso__alpha': 1.1199999999999999}"
            ]
          },
          "metadata": {},
          "execution_count": 39
        }
      ]
    },
    {
      "cell_type": "code",
      "source": [
        "-grid.best_score_ #MSE"
      ],
      "metadata": {
        "colab": {
          "base_uri": "https://localhost:8080/"
        },
        "id": "ce3Hmb1cMmDi",
        "outputId": "59631b2c-0c23-4fe3-bae0-b07d285d5b1b"
      },
      "execution_count": 40,
      "outputs": [
        {
          "output_type": "execute_result",
          "data": {
            "text/plain": [
              "116497.28773364911"
            ]
          },
          "metadata": {},
          "execution_count": 40
        }
      ]
    },
    {
      "cell_type": "code",
      "source": [
        "grid_best = grid.best_estimator_\n",
        "\n",
        "# lasso = make_pipeline(\n",
        "#     StandardScaler(), \n",
        "#     Lasso(alpha=grid.best_params_)\n",
        "# ) - Lasso z najlepszą alphą"
      ],
      "metadata": {
        "id": "VyDMrciVM7w8"
      },
      "execution_count": 41,
      "outputs": []
    },
    {
      "cell_type": "code",
      "source": [
        "print(grid_best['lasso'].coef_)\n",
        "grid_best['lasso'].intercept_ #współczynniki"
      ],
      "metadata": {
        "colab": {
          "base_uri": "https://localhost:8080/"
        },
        "id": "afbKSaSXNGVY",
        "outputId": "06fdfbd7-d412-4e2d-8cf8-20430e4bffbe"
      },
      "execution_count": 42,
      "outputs": [
        {
          "output_type": "stream",
          "name": "stdout",
          "text": [
            "[-304.31924792  314.38571951    0.          -14.8444138    12.40262053\n",
            "  118.47426976  -30.49101934 -184.69753547    0.           15.08530347\n",
            "  394.10035994  183.00814259 -179.38785208   81.66693035   43.30543403\n",
            "  -15.97016332]\n"
          ]
        },
        {
          "output_type": "execute_result",
          "data": {
            "text/plain": [
              "535.9258821292775"
            ]
          },
          "metadata": {},
          "execution_count": 42
        }
      ]
    },
    {
      "cell_type": "code",
      "source": [
        "cv_model(grid.best_estimator_, X, y)"
      ],
      "metadata": {
        "colab": {
          "base_uri": "https://localhost:8080/"
        },
        "id": "AFFHeT7-NSIf",
        "outputId": "3deffbb0-33dc-435c-f70d-5eeb892202ad"
      },
      "execution_count": 43,
      "outputs": [
        {
          "output_type": "execute_result",
          "data": {
            "text/plain": [
              "{'mae': 163.40180088077662,\n",
              " 'mse': 116497.28773364911,\n",
              " 'r2': 0.3476474488986277}"
            ]
          },
          "metadata": {},
          "execution_count": 43
        }
      ]
    },
    {
      "cell_type": "code",
      "source": [
        "#2c\n",
        "#patrzymy jak zmieniają się współczynniki beta ridge wraz ze wzrostem alphy \n",
        "plt.figure(figsize=(20, 10))\n",
        "\n",
        "alpha_vec =  np.linspace(0, 100, 100)\n",
        "\n",
        "coefs = []\n",
        "for a in alpha_vec:\n",
        "    model_lasso_regression = make_pipeline(\n",
        "        StandardScaler(),\n",
        "        Lasso(alpha = a)\n",
        "    )\n",
        "    model_lasso_regression.fit(X, y)\n",
        "    coefs.append(model_lasso_regression.named_steps['lasso'].coef_)\n",
        "\n",
        "\n",
        "plt.plot(alpha_vec, coefs)\n",
        "plt.plot([np.min(alpha_vec), np.max(alpha_vec)], [0, 0], '-.', color = 'black')\n",
        "plt.title('Wykres wielkości współczynników regresji liniowej z regularyzacją lasso w zależności od siły regularyzacji (parametr alpha)')\n",
        "plt.xlabel('alpha')\n",
        "plt.ylabel('coefficients')\n",
        "plt.legend(X.columns)\n",
        "plt.show()"
      ],
      "metadata": {
        "colab": {
          "base_uri": "https://localhost:8080/",
          "height": 621
        },
        "id": "Q1JfUIj4Ne-N",
        "outputId": "55176eb8-8cc5-4056-ca7b-2b3080167d7f"
      },
      "execution_count": 44,
      "outputs": [
        {
          "output_type": "display_data",
          "data": {
            "text/plain": [
              "<Figure size 1440x720 with 1 Axes>"
            ],
            "image/png": "[encoded data removed]"
          },
          "metadata": {
            "needs_background": "light"
          }
        }
      ]
    },
    {
      "cell_type": "markdown",
      "source": [
        "## Regresja wielomianowa z regularyzacją lasso"
      ],
      "metadata": {
        "id": "u3JLNMQNLfGh"
      }
    },
    {
      "cell_type": "code",
      "execution_count": 35,
      "metadata": {
        "colab": {
          "base_uri": "https://localhost:8080/"
        },
        "id": "4DMgKz_oYB77",
        "outputId": "9f0d6c1b-aa86-4a62-c3ae-18f73247f1b3"
      },
      "outputs": [
        {
          "output_type": "execute_result",
          "data": {
            "text/plain": [
              "Pipeline(steps=[('polynomialfeatures', PolynomialFeatures()),\n",
              "                ('standardscaler', StandardScaler()),\n",
              "                ('lasso', Lasso(max_iter=1000.0))])"
            ]
          },
          "metadata": {},
          "execution_count": 35
        }
      ],
      "source": [
        "#regresja wielomianowa dla lasso\n",
        "poly_lasso_estimator = make_pipeline(\n",
        "    PolynomialFeatures(),\n",
        "    StandardScaler(),\n",
        "    Lasso(max_iter=1e3)\n",
        ")\n",
        "poly_lasso_estimator"
      ]
    },
    {
      "cell_type": "code",
      "execution_count": 31,
      "metadata": {
        "colab": {
          "base_uri": "https://localhost:8080/"
        },
        "id": "5zPB1cRsYB77",
        "outputId": "69f14dcf-2a2e-41fe-8b45-3f46cf7eb82c"
      },
      "outputs": [
        {
          "output_type": "execute_result",
          "data": {
            "text/plain": [
              "GridSearchCV(cv=10,\n",
              "             estimator=Pipeline(steps=[('polynomialfeatures',\n",
              "                                        PolynomialFeatures()),\n",
              "                                       ('standardscaler', StandardScaler()),\n",
              "                                       ('lasso', Lasso(max_iter=1000.0))]),\n",
              "             param_grid={'lasso__alpha': array([0.        , 0.11111111, 0.22222222, 0.33333333, 0.44444444,\n",
              "       0.55555556, 0.66666667, 0.77777778, 0.88888889, 1.        ]),\n",
              "                         'polynomialfeatures__degree': [1, 2, 3]},\n",
              "             scoring='neg_mean_squared_error')"
            ]
          },
          "metadata": {},
          "execution_count": 31
        }
      ],
      "source": [
        "#regresja lasso z optymalnymi parametrami szukanymi za pomocą Gridsearcha\n",
        "grid3 = GridSearchCV(\n",
        "    estimator=poly_lasso_estimator,\n",
        "    param_grid={\n",
        "        'polynomialfeatures__degree': [1, 2, 3],\n",
        "        'lasso__alpha': np.linspace(0, 1, 10)\n",
        "    },\n",
        "    scoring='neg_mean_squared_error',\n",
        "    cv=10\n",
        ")\n",
        "\n",
        "grid3.fit(X, y)"
      ]
    },
    {
      "cell_type": "code",
      "execution_count": 32,
      "metadata": {
        "colab": {
          "base_uri": "https://localhost:8080/"
        },
        "id": "SptcE6L0YB77",
        "outputId": "86c630c3-659b-45de-8204-f0824e7dfa5c"
      },
      "outputs": [
        {
          "output_type": "execute_result",
          "data": {
            "text/plain": [
              "{'lasso__alpha': 0.6666666666666666, 'polynomialfeatures__degree': 2}"
            ]
          },
          "metadata": {},
          "execution_count": 32
        }
      ],
      "source": [
        "grid3.best_params_ #najlepsze parametry"
      ]
    },
    {
      "cell_type": "code",
      "execution_count": 33,
      "metadata": {
        "scrolled": true,
        "colab": {
          "base_uri": "https://localhost:8080/"
        },
        "id": "VHGrg1OZYB78",
        "outputId": "5dc21ef3-77e4-4ad3-f9d8-e65a9311118b"
      },
      "outputs": [
        {
          "output_type": "execute_result",
          "data": {
            "text/plain": [
              "{'mae': 129.9529608481898, 'mse': 97241.68199458039, 'r2': 0.44419460251903936}"
            ]
          },
          "metadata": {},
          "execution_count": 33
        }
      ],
      "source": [
        "cv_model(grid3.best_estimator_, X, y) #miary obliczone za pomocą kroswalidacji, która posłużyła do znalezienia optymalnej pary parametrów, więc wynik będzie bardzo dobry,\n",
        "# bo na tych samych zbiorach szukamy optymalnych parametrów, a także liczymy jeszcze raz miary dla najlepszego modelu"
      ]
    },
    {
      "cell_type": "code",
      "execution_count": null,
      "metadata": {
        "id": "aO4fNjGnYB78"
      },
      "outputs": [],
      "source": [
        "# Zapis modelu do pliku"
      ]
    },
    {
      "cell_type": "code",
      "execution_count": null,
      "metadata": {
        "id": "Acg50Hj6YB78"
      },
      "outputs": [],
      "source": [
        "import pickle"
      ]
    },
    {
      "cell_type": "code",
      "execution_count": null,
      "metadata": {
        "id": "oT3XXwTJYB78"
      },
      "outputs": [],
      "source": [
        "pickle.dump(grid3, open('../grid3.pickle', 'wb'))"
      ]
    },
    {
      "cell_type": "code",
      "execution_count": null,
      "metadata": {
        "id": "uNQtfU1jYB79"
      },
      "outputs": [],
      "source": [
        "grid4 = pickle.load(open('../grid3.pickle', 'rb'))"
      ]
    },
    {
      "cell_type": "code",
      "execution_count": null,
      "metadata": {
        "id": "ZKhxi14rYB79",
        "outputId": "d8183312-db34-45a4-e73f-7ac1e0e7a9ca"
      },
      "outputs": [
        {
          "data": {
            "text/plain": [
              "{'mse': 97241.68199458001,\n",
              " 'mae': 129.95296084818884,\n",
              " 'r2': 0.44419460251904247}"
            ]
          },
          "execution_count": 68,
          "metadata": {},
          "output_type": "execute_result"
        }
      ],
      "source": [
        "cv_model(grid4.best_estimator_, X, y)"
      ]
    },
    {
      "cell_type": "code",
      "execution_count": null,
      "metadata": {
        "id": "C4kt5kk3YB79"
      },
      "outputs": [],
      "source": [
        "def my_grid_search(estimator, params_grid, scoring='neg_mean_squared_error', cv=10):\n",
        "    grid = GridSearchCV(\n",
        "        estimator=estimator,\n",
        "        param_grid=params_grid,\n",
        "        scoring=scoring,\n",
        "        cv=cv\n",
        "    )\n",
        "\n",
        "    grid.fit(X, y)\n",
        "    return grid"
      ]
    },
    {
      "cell_type": "code",
      "execution_count": null,
      "metadata": {
        "id": "fWxuLKc9YB79",
        "outputId": "a47680fb-b4ed-4c51-8122-faa1c424389b"
      },
      "outputs": [
        {
          "data": {
            "text/plain": [
              "GridSearchCV(cv=10, error_score='raise-deprecating',\n",
              "             estimator=Pipeline(memory=None,\n",
              "                                steps=[('polynomialfeatures',\n",
              "                                        PolynomialFeatures(degree=2,\n",
              "                                                           include_bias=True,\n",
              "                                                           interaction_only=False,\n",
              "                                                           order='C')),\n",
              "                                       ('standardscaler',\n",
              "                                        StandardScaler(copy=True,\n",
              "                                                       with_mean=True,\n",
              "                                                       with_std=True)),\n",
              "                                       ('lasso',\n",
              "                                        Lasso(alpha=1.0, copy_X=True,\n",
              "                                              fit_intercept=True,\n",
              "                                              max_iter=1000.0, normalize=Fa...\n",
              "                                              random_state=None,\n",
              "                                              selection='cyclic', tol=0.0001,\n",
              "                                              warm_start=False))],\n",
              "                                verbose=False),\n",
              "             iid='warn', n_jobs=None,\n",
              "             param_grid={'lasso__alpha': array([0.        , 0.11111111, 0.22222222, 0.33333333, 0.44444444,\n",
              "       0.55555556, 0.66666667, 0.77777778, 0.88888889, 1.        ]),\n",
              "                         'polynomialfeatures__degree': [1, 2, 3]},\n",
              "             pre_dispatch='2*n_jobs', refit=True, return_train_score=False,\n",
              "             scoring='r2', verbose=0)"
            ]
          },
          "execution_count": 72,
          "metadata": {},
          "output_type": "execute_result"
        }
      ],
      "source": [
        "params = {\n",
        "        'polynomialfeatures__degree': [1, 2, 3],\n",
        "        'lasso__alpha': np.linspace(0, 1, 10)\n",
        "    }\n",
        "\n",
        "my_grid_search(poly_lasso_estimator, params, 'r2')"
      ]
    }
  ],
  "metadata": {
    "kernelspec": {
      "display_name": "Python 3",
      "language": "python",
      "name": "python3"
    },
    "language_info": {
      "codemirror_mode": {
        "name": "ipython",
        "version": 3
      },
      "file_extension": ".py",
      "mimetype": "text/x-python",
      "name": "python",
      "nbconvert_exporter": "python",
      "pygments_lexer": "ipython3",
      "version": "3.7.4"
    },
    "colab": {
      "name": "03_regularyzacja_model_regresji.ipynb",
      "provenance": [],
      "collapsed_sections": []
    }
  },
  "nbformat": 4,
  "nbformat_minor": 0
}